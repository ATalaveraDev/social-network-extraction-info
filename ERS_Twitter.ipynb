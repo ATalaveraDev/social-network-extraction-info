{
  "nbformat": 4,
  "nbformat_minor": 0,
  "metadata": {
    "colab": {
      "name": "ERS - Twitter.ipynb",
      "provenance": [],
      "authorship_tag": "ABX9TyNumXHtqz68A/RPvsE9OI4/",
      "include_colab_link": true
    },
    "kernelspec": {
      "name": "python3",
      "display_name": "Python 3"
    }
  },
  "cells": [
    {
      "cell_type": "markdown",
      "metadata": {
        "id": "view-in-github",
        "colab_type": "text"
      },
      "source": [
        "<a href=\"https://colab.research.google.com/github/ATalaveraDev/social-network-extraction-info/blob/main/ERS_Twitter.ipynb\" target=\"_parent\"><img src=\"https://colab.research.google.com/assets/colab-badge.svg\" alt=\"Open In Colab\"/></a>"
      ]
    },
    {
      "cell_type": "markdown",
      "metadata": {
        "id": "ssWaWXVHpvBk"
      },
      "source": [
        "Dependencies"
      ]
    },
    {
      "cell_type": "code",
      "metadata": {
        "colab": {
          "base_uri": "https://localhost:8080/"
        },
        "id": "ZKVoVjx2po4f",
        "outputId": "dd64648e-1693-4a92-e18e-edc1e5403bf9"
      },
      "source": [
        "pip install tweepy"
      ],
      "execution_count": 1,
      "outputs": [
        {
          "output_type": "stream",
          "text": [
            "Requirement already satisfied: tweepy in /usr/local/lib/python3.7/dist-packages (3.10.0)\n",
            "Requirement already satisfied: six>=1.10.0 in /usr/local/lib/python3.7/dist-packages (from tweepy) (1.15.0)\n",
            "Requirement already satisfied: requests[socks]>=2.11.1 in /usr/local/lib/python3.7/dist-packages (from tweepy) (2.23.0)\n",
            "Requirement already satisfied: requests-oauthlib>=0.7.0 in /usr/local/lib/python3.7/dist-packages (from tweepy) (1.3.0)\n",
            "Requirement already satisfied: certifi>=2017.4.17 in /usr/local/lib/python3.7/dist-packages (from requests[socks]>=2.11.1->tweepy) (2020.12.5)\n",
            "Requirement already satisfied: chardet<4,>=3.0.2 in /usr/local/lib/python3.7/dist-packages (from requests[socks]>=2.11.1->tweepy) (3.0.4)\n",
            "Requirement already satisfied: idna<3,>=2.5 in /usr/local/lib/python3.7/dist-packages (from requests[socks]>=2.11.1->tweepy) (2.10)\n",
            "Requirement already satisfied: urllib3!=1.25.0,!=1.25.1,<1.26,>=1.21.1 in /usr/local/lib/python3.7/dist-packages (from requests[socks]>=2.11.1->tweepy) (1.24.3)\n",
            "Requirement already satisfied: PySocks!=1.5.7,>=1.5.6; extra == \"socks\" in /usr/local/lib/python3.7/dist-packages (from requests[socks]>=2.11.1->tweepy) (1.7.1)\n",
            "Requirement already satisfied: oauthlib>=3.0.0 in /usr/local/lib/python3.7/dist-packages (from requests-oauthlib>=0.7.0->tweepy) (3.1.0)\n"
          ],
          "name": "stdout"
        }
      ]
    },
    {
      "cell_type": "markdown",
      "metadata": {
        "id": "swCXQap6ruXC"
      },
      "source": [
        "Obtener los Estados de Estados Unidos (solo los incorporados)"
      ]
    },
    {
      "cell_type": "code",
      "metadata": {
        "colab": {
          "base_uri": "https://localhost:8080/"
        },
        "id": "VyFNGOkSgu7b",
        "outputId": "89fb86ff-8620-4574-a84b-cb6d859277a3"
      },
      "source": [
        "import requests\n",
        "from bs4 import BeautifulSoup\n",
        "\n",
        "URL = \"https://www23.statcan.gc.ca/imdb/p3VD.pl?Function=getVD&TVD=53971\"\n",
        "page = requests.get(URL)\n",
        "soup = BeautifulSoup(page.content, 'html.parser')\n",
        "\n",
        "states = {}\n",
        "for row in soup.find_all('tr'):\n",
        "  tds = row.find_all('td')\n",
        "  if (len(tds) > 0):\n",
        "    cells = [d.text for d in tds]\n",
        "    states[cells[2]] = cells[0]\n",
        "states"
      ],
      "execution_count": 74,
      "outputs": [
        {
          "output_type": "execute_result",
          "data": {
            "text/plain": [
              "{'AK': 'Alaska',\n",
              " 'AL': 'Alabama',\n",
              " 'AR': 'Arkansas',\n",
              " 'AZ': 'Arizona',\n",
              " 'CA': 'California',\n",
              " 'CO': 'Colorado',\n",
              " 'CT': 'Connecticut',\n",
              " 'DC': 'District of Columbia',\n",
              " 'DE': 'Delaware',\n",
              " 'FL': 'Florida',\n",
              " 'GA': 'Georgia',\n",
              " 'HI': 'Hawaii',\n",
              " 'IA': 'Iowa',\n",
              " 'ID': 'Idaho',\n",
              " 'IL': 'Illinois',\n",
              " 'IN': 'Indiana',\n",
              " 'KS': 'Kansas',\n",
              " 'KY': 'Kentucky',\n",
              " 'LA': 'Louisiana',\n",
              " 'MA': 'Massachusetts',\n",
              " 'MD': 'Maryland',\n",
              " 'ME': 'Maine',\n",
              " 'MI': 'Michigan',\n",
              " 'MN': 'Minnesota',\n",
              " 'MO': 'Missouri',\n",
              " 'MS': 'Mississippi',\n",
              " 'MT': 'Montana',\n",
              " 'NC': 'North Carolina',\n",
              " 'ND': 'North Dakota',\n",
              " 'NE': 'Nebraska',\n",
              " 'NH': 'New Hampshire',\n",
              " 'NJ': 'New Jersey',\n",
              " 'NM': 'New Mexico',\n",
              " 'NV': 'Nevada',\n",
              " 'NY': 'New York',\n",
              " 'OH': 'Ohio',\n",
              " 'OK': 'Oklahoma',\n",
              " 'OR': 'Oregon',\n",
              " 'PA': 'Pennsylvania',\n",
              " 'RI': 'Rhode Island',\n",
              " 'SC': 'South Carolina',\n",
              " 'SD': 'South Dakota',\n",
              " 'TN': 'Tennessee',\n",
              " 'TX': 'Texas',\n",
              " 'UT': 'Utah',\n",
              " 'VA': 'Virginia',\n",
              " 'VT': 'Vermont',\n",
              " 'WA': 'Washington',\n",
              " 'WI': 'Wisconsin',\n",
              " 'WV': 'West Virginia',\n",
              " 'WY': 'Wyoming'}"
            ]
          },
          "metadata": {
            "tags": []
          },
          "execution_count": 74
        }
      ]
    },
    {
      "cell_type": "markdown",
      "metadata": {
        "id": "-Hq_FYO-tI14"
      },
      "source": [
        "OAuth authentication"
      ]
    },
    {
      "cell_type": "code",
      "metadata": {
        "id": "NuHCHCl9qKZV"
      },
      "source": [
        "import tweepy\n",
        "\n",
        "auth = tweepy.OAuthHandler('GJdVKUjoEl31WLHlgIRYxVmYr', 'HVaOvQWoHIkiHZh2yPNb0YMxwR6waHagtoR4hcKURo6nhvGxwL')\n",
        "auth.set_access_token('1254452545583529991-g0sI2XhrtijaQ5zA3NNPRwCfuSKrCr', '4GLEprsRqsKlHPelKC4YirECbHTQYsJJGYiy0JN2OuRiH')\n",
        "\n",
        "api = tweepy.API(auth)"
      ],
      "execution_count": 3,
      "outputs": []
    },
    {
      "cell_type": "markdown",
      "metadata": {
        "id": "nQ4cz71Guzzl"
      },
      "source": [
        "Tweets Selection"
      ]
    },
    {
      "cell_type": "code",
      "metadata": {
        "colab": {
          "base_uri": "https://localhost:8080/"
        },
        "id": "PW55FTV5tySE",
        "outputId": "cf7eaaa5-2fe7-4614-b3ca-06e182012abf"
      },
      "source": [
        "from tweepy.streaming import StreamListener\n",
        "from tweepy import Stream\n",
        "import json\n",
        "import time\n",
        "\n",
        "class StdOutListener(StreamListener):\n",
        "    def on_data(self, data):\n",
        "      tweet = json.loads(data)\n",
        "      tweets.append({ 'text': tweet['text'], 'place': tweet['place']['full_name'] })\n",
        "      return True\n",
        "\n",
        "    def on_error(self, status):\n",
        "        print(status)\n",
        "\n",
        "tweets = []\n",
        "l = StdOutListener()\n",
        "stream = Stream(auth, l)\n",
        "stream.filter(languages=['en'], locations=[-171.791110603, 18.91619, -66.96466, 71.3577635769], is_async=True)\n",
        "time.sleep(10)\n",
        "stream.disconnect()\n"
      ],
      "execution_count": 37,
      "outputs": [
        {
          "output_type": "stream",
          "text": [
            "DONE!\n",
            "[{'text': '@barbiebayxx @NaijaEverything We from Africa it ain’t née plus I like younger girls 🌚🌚 she looks sweet', 'place': 'Georgia, USA'}, {'text': '@lonliestwolf Gooood....goooood https://t.co/QdQKaWl8xK', 'place': 'Columbus, OH'}, {'text': 'it’d be a lie to say that shit didn’t hurt my feelings.', 'place': 'Dallas, TX'}, {'text': 'I can’t complain...🤷🏾\\u200d♂️... it was all 4 the taking 🙇🏾\\u200d♂️', 'place': 'Oakland, CA'}, {'text': 'Flat Rock / Coon Creek: Running https://t.co/XnDGONy515', 'place': 'Alabama, USA'}, {'text': 'Don’t let No one get comfortable Disrespecting You!!!', 'place': 'Scio, MI'}, {'text': '@Thomas1774Paine Just like he was a Russian puppet right Eric? \\nHow’s that Russian Collusion fairytale going? Have… https://t.co/38iy7V6MgC', 'place': 'Russellton, PA'}, {'text': '@Oluomachi_u I believe in you!😭', 'place': 'Chicago, IL'}, {'text': '@iTS_MeMadiO You work at the 🏥', 'place': 'Dallas, TX'}]\n"
          ],
          "name": "stdout"
        }
      ]
    },
    {
      "cell_type": "markdown",
      "metadata": {
        "id": "o7_z-qquwSBi"
      },
      "source": [
        "Sentiment Processor"
      ]
    },
    {
      "cell_type": "code",
      "metadata": {
        "id": "Fd5bu2F_wWgn",
        "colab": {
          "base_uri": "https://localhost:8080/"
        },
        "outputId": "2ade3133-bfd3-4bce-9326-bdf61cf6211f"
      },
      "source": [
        "feelings = open('AFINN-111.txt', 'r')\n",
        "\n",
        "def initFeelingsDictionary():\n",
        "  dict = {}\n",
        "  for feeling in feelings:\n",
        "    feelingSplit = feeling.split('\\\\n')\n",
        "    feel = feelingSplit[0].replace('\\n', '').split('\\t')\n",
        "    dict[feel[0]] = feel[1]\n",
        "  return dict\n",
        "\n",
        "affinn = initFeelingsDictionary()\n",
        "\n",
        "testData = [{'text': '@barbiebayxx @NaijaEverything We from Africa it ain’t née plus I like younger girls 🌚🌚 she looks sweet', 'place': 'Georgia, USA'}, {'text': '@lonliestwolf Gooood....goooood https://t.co/QdQKaWl8xK', 'place': 'Columbus, OH'}, {'text': 'it’d be a lie to say that shit didn’t hurt my feelings.', 'place': 'Dallas, TX'}, {'text': 'I can’t complain...🤷🏾\\u200d♂️... it was all 4 the taking 🙇🏾\\u200d♂️', 'place': 'Oakland, CA'}, {'text': 'Flat Rock / Coon Creek: Running https://t.co/XnDGONy515', 'place': 'Alabama, USA'}, {'text': 'Don’t let No one get comfortable Disrespecting You!!!', 'place': 'Scio, MI'}, {'text': '@Thomas1774Paine Just like he was a Russian puppet right Eric? \\nHow’s that Russian Collusion fairytale going? Have… https://t.co/38iy7V6MgC', 'place': 'Russellton, PA'}, {'text': '@Oluomachi_u I believe in you!😭', 'place': 'Chicago, IL'}, {'text': '@iTS_MeMadiO You work at the 🏥', 'place': 'Dallas, TX'}]\n",
        "\n",
        "for tweet in testData:\n",
        "  code = tweet['place'].split(', ')[1]\n",
        "  \n",
        "  if code in states:\n",
        "    happinessIndex = 0\n",
        "    for word in tweet['text'].split():\n",
        "      if word.lower() in affinn:\n",
        "        happinessIndex += int(affinn[word.lower()])\n",
        "    print({ 'tweet': tweet['place'].split(',')[1], 'happiness': happinessIndex })"
      ],
      "execution_count": 95,
      "outputs": [
        {
          "output_type": "stream",
          "text": [
            "{'tweet': ' OH', 'happiness': 0}\n",
            "{'tweet': ' TX', 'happiness': -6}\n",
            "{'tweet': ' CA', 'happiness': 0}\n",
            "{'tweet': ' MI', 'happiness': 1}\n",
            "{'tweet': ' PA', 'happiness': 2}\n",
            "{'tweet': ' IL', 'happiness': 0}\n",
            "{'tweet': ' TX', 'happiness': 0}\n"
          ],
          "name": "stdout"
        }
      ]
    },
    {
      "cell_type": "markdown",
      "metadata": {
        "id": "W1osH3RSwflW"
      },
      "source": [
        "Map"
      ]
    }
  ]
}