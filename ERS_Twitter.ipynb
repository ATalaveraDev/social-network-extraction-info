{
  "nbformat": 4,
  "nbformat_minor": 0,
  "metadata": {
    "colab": {
      "name": "ERS - Twitter.ipynb",
      "provenance": [],
      "authorship_tag": "ABX9TyNzZ2a+/zNt2vOzAbQuwMHX",
      "include_colab_link": true
    },
    "kernelspec": {
      "name": "python3",
      "display_name": "Python 3"
    }
  },
  "cells": [
    {
      "cell_type": "markdown",
      "metadata": {
        "id": "view-in-github",
        "colab_type": "text"
      },
      "source": [
        "<a href=\"https://colab.research.google.com/github/ATalaveraDev/social-network-extraction-info/blob/main/ERS_Twitter.ipynb\" target=\"_parent\"><img src=\"https://colab.research.google.com/assets/colab-badge.svg\" alt=\"Open In Colab\"/></a>"
      ]
    },
    {
      "cell_type": "markdown",
      "metadata": {
        "id": "ssWaWXVHpvBk"
      },
      "source": [
        "Dependencies"
      ]
    },
    {
      "cell_type": "code",
      "metadata": {
        "colab": {
          "base_uri": "https://localhost:8080/"
        },
        "id": "ZKVoVjx2po4f",
        "outputId": "dd464715-ff77-42f7-ba1e-6a1c27319757"
      },
      "source": [
        "pip install tweepy"
      ],
      "execution_count": 38,
      "outputs": [
        {
          "output_type": "stream",
          "text": [
            "Requirement already satisfied: tweepy in /usr/local/lib/python3.7/dist-packages (3.10.0)\n",
            "Requirement already satisfied: requests-oauthlib>=0.7.0 in /usr/local/lib/python3.7/dist-packages (from tweepy) (1.3.0)\n",
            "Requirement already satisfied: six>=1.10.0 in /usr/local/lib/python3.7/dist-packages (from tweepy) (1.15.0)\n",
            "Requirement already satisfied: requests[socks]>=2.11.1 in /usr/local/lib/python3.7/dist-packages (from tweepy) (2.23.0)\n",
            "Requirement already satisfied: oauthlib>=3.0.0 in /usr/local/lib/python3.7/dist-packages (from requests-oauthlib>=0.7.0->tweepy) (3.1.0)\n",
            "Requirement already satisfied: certifi>=2017.4.17 in /usr/local/lib/python3.7/dist-packages (from requests[socks]>=2.11.1->tweepy) (2020.12.5)\n",
            "Requirement already satisfied: chardet<4,>=3.0.2 in /usr/local/lib/python3.7/dist-packages (from requests[socks]>=2.11.1->tweepy) (3.0.4)\n",
            "Requirement already satisfied: idna<3,>=2.5 in /usr/local/lib/python3.7/dist-packages (from requests[socks]>=2.11.1->tweepy) (2.10)\n",
            "Requirement already satisfied: urllib3!=1.25.0,!=1.25.1,<1.26,>=1.21.1 in /usr/local/lib/python3.7/dist-packages (from requests[socks]>=2.11.1->tweepy) (1.24.3)\n",
            "Requirement already satisfied: PySocks!=1.5.7,>=1.5.6; extra == \"socks\" in /usr/local/lib/python3.7/dist-packages (from requests[socks]>=2.11.1->tweepy) (1.7.1)\n"
          ],
          "name": "stdout"
        }
      ]
    },
    {
      "cell_type": "markdown",
      "metadata": {
        "id": "swCXQap6ruXC"
      },
      "source": [
        "Obtener los Estados de Estados Unidos (solo los incorporados)"
      ]
    },
    {
      "cell_type": "code",
      "metadata": {
        "colab": {
          "base_uri": "https://localhost:8080/"
        },
        "id": "VyFNGOkSgu7b",
        "outputId": "8e7005cc-1559-47d9-ae45-e145748f40fc"
      },
      "source": [
        "import requests\n",
        "from bs4 import BeautifulSoup\n",
        "\n",
        "URL = \"https://www.nrcs.usda.gov/wps/portal/nrcs/detail/?cid=nrcs143_013696\"\n",
        "page = requests.get(URL)\n",
        "soup = BeautifulSoup(page.content, 'html.parser')\n",
        "\n",
        "states = {}\n",
        "table = soup.select_one('.data')\n",
        "for row in table.select('tr'):\n",
        "  tds = row.find_all('td')\n",
        "  if (len(tds) > 0):\n",
        "    cells = [d.text for d in tds]\n",
        "    states[cells[1].replace('\\r', '').replace('\\n', '').replace('\\t', '')] = cells[2].replace('\\r', '').replace('\\n', '').replace('\\t', '')\n",
        "states"
      ],
      "execution_count": 65,
      "outputs": [
        {
          "output_type": "execute_result",
          "data": {
            "text/plain": [
              "{'AK': '02',\n",
              " 'AL': '01',\n",
              " 'AR': '05',\n",
              " 'AS': '60',\n",
              " 'AZ': '04',\n",
              " 'CA': '06',\n",
              " 'CO': '08',\n",
              " 'CT': '09',\n",
              " 'DE': '10',\n",
              " 'FL': '12',\n",
              " 'GA': '13',\n",
              " 'GU': '66',\n",
              " 'HI': '15',\n",
              " 'IA': '19',\n",
              " 'ID': '16',\n",
              " 'IL': '17',\n",
              " 'IN': '18',\n",
              " 'KS': '20',\n",
              " 'KY': '21',\n",
              " 'LA': '22',\n",
              " 'MA': '25',\n",
              " 'MD': '24',\n",
              " 'ME': '23',\n",
              " 'MI': '26',\n",
              " 'MN': '27',\n",
              " 'MO': '29',\n",
              " 'MP': '69',\n",
              " 'MS': '28',\n",
              " 'MT': '30',\n",
              " 'NC': '37',\n",
              " 'ND': '38',\n",
              " 'NE': '31',\n",
              " 'NH': '33',\n",
              " 'NJ': '34',\n",
              " 'NM': '35',\n",
              " 'NV': '32',\n",
              " 'NY': '36',\n",
              " 'OH': '39',\n",
              " 'OK': '40',\n",
              " 'OR': '41',\n",
              " 'PA': '42',\n",
              " 'PR': '72',\n",
              " 'RI': '44',\n",
              " 'SC': '45',\n",
              " 'SD': '46',\n",
              " 'TN': '47',\n",
              " 'TX': '48',\n",
              " 'UT': '49',\n",
              " 'VA': '51',\n",
              " 'VI': '78',\n",
              " 'VT': '50',\n",
              " 'WA': '53',\n",
              " 'WI': '55',\n",
              " 'WV': '54',\n",
              " 'WY': '56'}"
            ]
          },
          "metadata": {
            "tags": []
          },
          "execution_count": 65
        }
      ]
    },
    {
      "cell_type": "markdown",
      "metadata": {
        "id": "-Hq_FYO-tI14"
      },
      "source": [
        "OAuth authentication"
      ]
    },
    {
      "cell_type": "code",
      "metadata": {
        "id": "NuHCHCl9qKZV"
      },
      "source": [
        "import tweepy\n",
        "\n",
        "auth = tweepy.OAuthHandler('GJdVKUjoEl31WLHlgIRYxVmYr', 'HVaOvQWoHIkiHZh2yPNb0YMxwR6waHagtoR4hcKURo6nhvGxwL')\n",
        "auth.set_access_token('1254452545583529991-g0sI2XhrtijaQ5zA3NNPRwCfuSKrCr', '4GLEprsRqsKlHPelKC4YirECbHTQYsJJGYiy0JN2OuRiH')\n",
        "\n",
        "api = tweepy.API(auth)"
      ],
      "execution_count": null,
      "outputs": []
    },
    {
      "cell_type": "markdown",
      "metadata": {
        "id": "nQ4cz71Guzzl"
      },
      "source": [
        "Tweets Selection"
      ]
    },
    {
      "cell_type": "code",
      "metadata": {
        "colab": {
          "base_uri": "https://localhost:8080/"
        },
        "id": "PW55FTV5tySE",
        "outputId": "cf7eaaa5-2fe7-4614-b3ca-06e182012abf"
      },
      "source": [
        "from tweepy.streaming import StreamListener\n",
        "from tweepy import Stream\n",
        "import json\n",
        "import time\n",
        "\n",
        "class StdOutListener(StreamListener):\n",
        "    def on_data(self, data):\n",
        "      tweet = json.loads(data)\n",
        "      tweets.append({ 'text': tweet['text'], 'place': tweet['place']['full_name'] })\n",
        "      return True\n",
        "\n",
        "    def on_error(self, status):\n",
        "        print(status)\n",
        "\n",
        "tweets = []\n",
        "l = StdOutListener()\n",
        "stream = Stream(auth, l)\n",
        "stream.filter(languages=['en'], locations=[-171.791110603, 18.91619, -66.96466, 71.3577635769], is_async=True)\n",
        "time.sleep(10)\n",
        "stream.disconnect()\n"
      ],
      "execution_count": null,
      "outputs": [
        {
          "output_type": "stream",
          "text": [
            "DONE!\n",
            "[{'text': '@barbiebayxx @NaijaEverything We from Africa it ain’t née plus I like younger girls 🌚🌚 she looks sweet', 'place': 'Georgia, USA'}, {'text': '@lonliestwolf Gooood....goooood https://t.co/QdQKaWl8xK', 'place': 'Columbus, OH'}, {'text': 'it’d be a lie to say that shit didn’t hurt my feelings.', 'place': 'Dallas, TX'}, {'text': 'I can’t complain...🤷🏾\\u200d♂️... it was all 4 the taking 🙇🏾\\u200d♂️', 'place': 'Oakland, CA'}, {'text': 'Flat Rock / Coon Creek: Running https://t.co/XnDGONy515', 'place': 'Alabama, USA'}, {'text': 'Don’t let No one get comfortable Disrespecting You!!!', 'place': 'Scio, MI'}, {'text': '@Thomas1774Paine Just like he was a Russian puppet right Eric? \\nHow’s that Russian Collusion fairytale going? Have… https://t.co/38iy7V6MgC', 'place': 'Russellton, PA'}, {'text': '@Oluomachi_u I believe in you!😭', 'place': 'Chicago, IL'}, {'text': '@iTS_MeMadiO You work at the 🏥', 'place': 'Dallas, TX'}]\n"
          ],
          "name": "stdout"
        }
      ]
    },
    {
      "cell_type": "markdown",
      "metadata": {
        "id": "o7_z-qquwSBi"
      },
      "source": [
        "Sentiment Processor"
      ]
    },
    {
      "cell_type": "code",
      "metadata": {
        "id": "Fd5bu2F_wWgn",
        "colab": {
          "base_uri": "https://localhost:8080/"
        },
        "outputId": "baf22421-01bb-4ce8-b98b-72dbfb55b2ae"
      },
      "source": [
        "feelings = open('AFINN-111.txt', 'r')\n",
        "\n",
        "def initFeelingsDictionary():\n",
        "  dict = {}\n",
        "  for feeling in feelings:\n",
        "    feelingSplit = feeling.split('\\\\n')\n",
        "    feel = feelingSplit[0].replace('\\n', '').split('\\t')\n",
        "    dict[feel[0]] = feel[1]\n",
        "  return dict\n",
        "\n",
        "affinn = initFeelingsDictionary()\n",
        "\n",
        "testData = [{'text': '@barbiebayxx @NaijaEverything We from Africa it ain’t née plus I like younger girls 🌚🌚 she looks sweet', 'place': 'Georgia, USA'}, {'text': '@lonliestwolf Gooood....goooood https://t.co/QdQKaWl8xK', 'place': 'Columbus, OH'}, {'text': 'it’d be a lie to say that shit didn’t hurt my feelings.', 'place': 'Dallas, TX'}, {'text': 'I can’t complain...🤷🏾\\u200d♂️... it was all 4 the taking 🙇🏾\\u200d♂️', 'place': 'Oakland, CA'}, {'text': 'Flat Rock / Coon Creek: Running https://t.co/XnDGONy515', 'place': 'Alabama, USA'}, {'text': 'Don’t let No one get comfortable Disrespecting You!!!', 'place': 'Scio, MI'}, {'text': '@Thomas1774Paine Just like he was a Russian puppet right Eric? \\nHow’s that Russian Collusion fairytale going? Have… https://t.co/38iy7V6MgC', 'place': 'Russellton, PA'}, {'text': '@Oluomachi_u I believe in you!😭', 'place': 'Chicago, IL'}, {'text': '@iTS_MeMadiO You work at the 🏥', 'place': 'Dallas, TX'}]\n",
        "\n",
        "countryHappinness = {}\n",
        "for tweet in testData:\n",
        "  code = tweet['place'].split(', ')[1]\n",
        "  if code in states:\n",
        "    happinessIndex = 0\n",
        "    for word in tweet['text'].split():\n",
        "      if word.lower() in affinn:\n",
        "        happinessIndex += int(affinn[word.lower()])\n",
        "        countryHappinness[code] = happinessIndex\n",
        "print(countryHappinness)"
      ],
      "execution_count": null,
      "outputs": [
        {
          "output_type": "stream",
          "text": [
            "{'TX': -6, 'MI': 1, 'PA': 2}\n"
          ],
          "name": "stdout"
        }
      ]
    },
    {
      "cell_type": "markdown",
      "metadata": {
        "id": "W1osH3RSwflW"
      },
      "source": [
        "## Map"
      ]
    },
    {
      "cell_type": "code",
      "metadata": {
        "colab": {
          "base_uri": "https://localhost:8080/"
        },
        "id": "h_XGYnU9_TWs",
        "outputId": "e9a2ac55-3a75-4e91-b759-cde4b0b88c4d"
      },
      "source": [
        "!pip install plotly-geo\n",
        "!pip install geopandas\n",
        "!pip install pyshp\n",
        "!pip install shapely"
      ],
      "execution_count": 35,
      "outputs": [
        {
          "output_type": "stream",
          "text": [
            "Requirement already satisfied: plotly-geo in /usr/local/lib/python3.7/dist-packages (1.0.0)\n",
            "Requirement already satisfied: geopandas in /usr/local/lib/python3.7/dist-packages (0.3.0)\n",
            "Requirement already satisfied: pandas in /usr/local/lib/python3.7/dist-packages (from geopandas) (1.1.5)\n",
            "Requirement already satisfied: pyproj in /usr/local/lib/python3.7/dist-packages (from geopandas) (1.9.6)\n",
            "Requirement already satisfied: shapely in /usr/local/lib/python3.7/dist-packages (from geopandas) (1.6.3)\n",
            "Requirement already satisfied: fiona in /usr/local/lib/python3.7/dist-packages (from geopandas) (1.8.18)\n",
            "Requirement already satisfied: descartes in /usr/local/lib/python3.7/dist-packages (from geopandas) (1.1.0)\n",
            "Requirement already satisfied: numpy>=1.15.4 in /usr/local/lib/python3.7/dist-packages (from pandas->geopandas) (1.19.5)\n",
            "Requirement already satisfied: pytz>=2017.2 in /usr/local/lib/python3.7/dist-packages (from pandas->geopandas) (2018.9)\n",
            "Requirement already satisfied: python-dateutil>=2.7.3 in /usr/local/lib/python3.7/dist-packages (from pandas->geopandas) (2.8.1)\n",
            "Requirement already satisfied: cligj>=0.5 in /usr/local/lib/python3.7/dist-packages (from fiona->geopandas) (0.7.1)\n",
            "Requirement already satisfied: attrs>=17 in /usr/local/lib/python3.7/dist-packages (from fiona->geopandas) (20.3.0)\n",
            "Requirement already satisfied: click-plugins>=1.0 in /usr/local/lib/python3.7/dist-packages (from fiona->geopandas) (1.1.1)\n",
            "Requirement already satisfied: munch in /usr/local/lib/python3.7/dist-packages (from fiona->geopandas) (2.5.0)\n",
            "Requirement already satisfied: six>=1.7 in /usr/local/lib/python3.7/dist-packages (from fiona->geopandas) (1.15.0)\n",
            "Requirement already satisfied: click<8,>=4.0 in /usr/local/lib/python3.7/dist-packages (from fiona->geopandas) (7.1.2)\n",
            "Requirement already satisfied: certifi in /usr/local/lib/python3.7/dist-packages (from fiona->geopandas) (2020.12.5)\n",
            "Requirement already satisfied: matplotlib in /usr/local/lib/python3.7/dist-packages (from descartes->geopandas) (3.2.2)\n",
            "Requirement already satisfied: cycler>=0.10 in /usr/local/lib/python3.7/dist-packages (from matplotlib->descartes->geopandas) (0.10.0)\n",
            "Requirement already satisfied: pyparsing!=2.0.4,!=2.1.2,!=2.1.6,>=2.0.1 in /usr/local/lib/python3.7/dist-packages (from matplotlib->descartes->geopandas) (2.4.7)\n",
            "Requirement already satisfied: kiwisolver>=1.0.1 in /usr/local/lib/python3.7/dist-packages (from matplotlib->descartes->geopandas) (1.3.1)\n",
            "Requirement already satisfied: pyshp in /usr/local/lib/python3.7/dist-packages (1.2.10)\n",
            "Requirement already satisfied: shapely in /usr/local/lib/python3.7/dist-packages (1.6.3)\n"
          ],
          "name": "stdout"
        }
      ]
    },
    {
      "cell_type": "code",
      "metadata": {
        "colab": {
          "base_uri": "https://localhost:8080/",
          "height": 130
        },
        "id": "Z1MCkMte_cjX",
        "outputId": "9a250425-2432-49f5-afc7-85e012772479"
      },
      "source": [
        "import plotly.figure_factory as ff\n",
        "import plotly.express as px\n",
        "import pandas as pd\n",
        "from urllib.request import urlopen\n",
        "import json\n",
        "\n",
        "fips = []\n",
        "for key, value in states.items():\n",
        "  fips.append(value)\n",
        "\n",
        "with urlopen('https://raw.githubusercontent.com/plotly/datasets/master/geojson-counties-fips.json') as response:\n",
        "    counties = json.load(response)\n",
        "\n",
        "df_presentation = pd.DataFrame(\n",
        "    {\n",
        "        'FIPS': [01001, 01003, 01005],\n",
        "        'Values': [100, 200, 300]\n",
        "    }\n",
        ")\n",
        "\n",
        "\n",
        "fig = px.choropleth_mapbox(df_presentation, \n",
        "                           geojson=counties,\n",
        "                           locations='FIPS',\n",
        "                           color='Values', \n",
        "                           color_continuous_scale='jet',\n",
        "                           range_color=(100, 500),\n",
        "                           mapbox_style=\"carto-positron\",                    \n",
        "                           zoom=3, center = {\"lat\": 37.0902, \"lon\": -95.7129},\n",
        "                           opacity=0.5\n",
        "                          )\n",
        "fig.update_layout(margin={\"r\":0,\"t\":0,\"l\":0,\"b\":0})\n",
        "fig.show()"
      ],
      "execution_count": 94,
      "outputs": [
        {
          "output_type": "error",
          "ename": "SyntaxError",
          "evalue": "ignored",
          "traceback": [
            "\u001b[0;36m  File \u001b[0;32m\"<ipython-input-94-938b7f95ce8a>\"\u001b[0;36m, line \u001b[0;32m16\u001b[0m\n\u001b[0;31m    'FIPS': [01001, 01003, 01005],\u001b[0m\n\u001b[0m                 ^\u001b[0m\n\u001b[0;31mSyntaxError\u001b[0m\u001b[0;31m:\u001b[0m invalid token\n"
          ]
        }
      ]
    }
  ]
}