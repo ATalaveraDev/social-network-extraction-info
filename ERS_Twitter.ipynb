{
  "nbformat": 4,
  "nbformat_minor": 0,
  "metadata": {
    "colab": {
      "name": "ERS - Twitter.ipynb",
      "provenance": [],
      "collapsed_sections": [],
      "toc_visible": true,
      "authorship_tag": "ABX9TyMO9ARRTaf81K6gDZQkaZ5M",
      "include_colab_link": true
    },
    "kernelspec": {
      "name": "python3",
      "display_name": "Python 3"
    }
  },
  "cells": [
    {
      "cell_type": "markdown",
      "metadata": {
        "id": "view-in-github",
        "colab_type": "text"
      },
      "source": [
        "<a href=\"https://colab.research.google.com/github/ATalaveraDev/social-network-extraction-info/blob/main/ERS_Twitter.ipynb\" target=\"_parent\"><img src=\"https://colab.research.google.com/assets/colab-badge.svg\" alt=\"Open In Colab\"/></a>"
      ]
    },
    {
      "cell_type": "markdown",
      "metadata": {
        "id": "ssWaWXVHpvBk"
      },
      "source": [
        "###Dependencias"
      ]
    },
    {
      "cell_type": "code",
      "metadata": {
        "colab": {
          "base_uri": "https://localhost:8080/"
        },
        "id": "ZKVoVjx2po4f",
        "outputId": "9fc550f6-adb6-4d88-e573-b51058d20eb6"
      },
      "source": [
        "pip install tweepy"
      ],
      "execution_count": null,
      "outputs": [
        {
          "output_type": "stream",
          "text": [
            "Requirement already satisfied: tweepy in /usr/local/lib/python3.7/dist-packages (3.10.0)\n",
            "Requirement already satisfied: requests[socks]>=2.11.1 in /usr/local/lib/python3.7/dist-packages (from tweepy) (2.23.0)\n",
            "Requirement already satisfied: requests-oauthlib>=0.7.0 in /usr/local/lib/python3.7/dist-packages (from tweepy) (1.3.0)\n",
            "Requirement already satisfied: six>=1.10.0 in /usr/local/lib/python3.7/dist-packages (from tweepy) (1.15.0)\n",
            "Requirement already satisfied: urllib3!=1.25.0,!=1.25.1,<1.26,>=1.21.1 in /usr/local/lib/python3.7/dist-packages (from requests[socks]>=2.11.1->tweepy) (1.24.3)\n",
            "Requirement already satisfied: certifi>=2017.4.17 in /usr/local/lib/python3.7/dist-packages (from requests[socks]>=2.11.1->tweepy) (2020.12.5)\n",
            "Requirement already satisfied: chardet<4,>=3.0.2 in /usr/local/lib/python3.7/dist-packages (from requests[socks]>=2.11.1->tweepy) (3.0.4)\n",
            "Requirement already satisfied: idna<3,>=2.5 in /usr/local/lib/python3.7/dist-packages (from requests[socks]>=2.11.1->tweepy) (2.10)\n",
            "Requirement already satisfied: PySocks!=1.5.7,>=1.5.6; extra == \"socks\" in /usr/local/lib/python3.7/dist-packages (from requests[socks]>=2.11.1->tweepy) (1.7.1)\n",
            "Requirement already satisfied: oauthlib>=3.0.0 in /usr/local/lib/python3.7/dist-packages (from requests-oauthlib>=0.7.0->tweepy) (3.1.0)\n"
          ],
          "name": "stdout"
        }
      ]
    },
    {
      "cell_type": "markdown",
      "metadata": {
        "id": "swCXQap6ruXC"
      },
      "source": [
        "###Obtener los Estados de Estados Unidos"
      ]
    },
    {
      "cell_type": "markdown",
      "metadata": {
        "id": "IRHocSjK54Dk"
      },
      "source": [
        "En esta parte he hecho scrapping de una web del google developers portal que contiene el codigo de cada estado, su nombre y sus coordenadas. El motivo de esto es porque de cada Tweet voy a recoger el valor del atributo \"location\" el cual presenta el formato: \"nombre_estado, CODIGO_ESTADO\""
      ]
    },
    {
      "cell_type": "code",
      "metadata": {
        "id": "VyFNGOkSgu7b"
      },
      "source": [
        "import requests\n",
        "from bs4 import BeautifulSoup\n",
        "\n",
        "URL = \"https://developers.google.com/public-data/docs/canonical/states_csv\"\n",
        "page = requests.get(URL)\n",
        "soup = BeautifulSoup(page.content, 'html.parser')\n",
        "\n",
        "states = []\n",
        "table = soup.select_one('table')\n",
        "for row in table.select('tr'):\n",
        "  tds = row.find_all('td')\n",
        "  if (len(tds) > 0):\n",
        "    cells = [d.text for d in tds]\n",
        "    states.append({ 'state': cells[0], 'name': cells[3], 'latitude': cells[1], 'longitude': cells[2] })\n",
        "\n",
        "# DEBUGGING del resultado\n",
        "#states"
      ],
      "execution_count": 34,
      "outputs": []
    },
    {
      "cell_type": "markdown",
      "metadata": {
        "id": "-Hq_FYO-tI14"
      },
      "source": [
        "OAuth authentication"
      ]
    },
    {
      "cell_type": "code",
      "metadata": {
        "id": "NuHCHCl9qKZV"
      },
      "source": [
        "import tweepy\n",
        "\n",
        "auth = tweepy.OAuthHandler('GJdVKUjoEl31WLHlgIRYxVmYr', 'HVaOvQWoHIkiHZh2yPNb0YMxwR6waHagtoR4hcKURo6nhvGxwL')\n",
        "auth.set_access_token('1254452545583529991-g0sI2XhrtijaQ5zA3NNPRwCfuSKrCr', '4GLEprsRqsKlHPelKC4YirECbHTQYsJJGYiy0JN2OuRiH')\n",
        "\n",
        "api = tweepy.API(auth)"
      ],
      "execution_count": 35,
      "outputs": []
    },
    {
      "cell_type": "markdown",
      "metadata": {
        "id": "nQ4cz71Guzzl"
      },
      "source": [
        "###Tweets Selection"
      ]
    },
    {
      "cell_type": "markdown",
      "metadata": {
        "id": "9X7JCpdF5dKi"
      },
      "source": [
        "En esta sección se obtienen los Tweets a través de la funcionalidad de streaming de la API. Por defecto el tiempo de streaming es de 1 minuto pero se puede configurar, para ello basta con editar la linea \"time.sleep(60)\""
      ]
    },
    {
      "cell_type": "code",
      "metadata": {
        "id": "PW55FTV5tySE"
      },
      "source": [
        "from tweepy.streaming import StreamListener\n",
        "from tweepy import Stream\n",
        "import json\n",
        "import time\n",
        "\n",
        "class StdOutListener(StreamListener):\n",
        "    def on_data(self, data):\n",
        "      tweet = json.loads(data)\n",
        "      tweets.append({ 'text': tweet['text'], 'place': tweet['place']['full_name'] })\n",
        "      return True\n",
        "\n",
        "    def on_error(self, status):\n",
        "        print(status)\n",
        "\n",
        "tweets = []\n",
        "l = StdOutListener()\n",
        "stream = Stream(auth, l)\n",
        "stream.filter(languages=['en'], locations=[-171.791110603, 18.91619, -66.96466, 71.3577635769], is_async=True)\n",
        "time.sleep(30)\n",
        "stream.disconnect()\n"
      ],
      "execution_count": 36,
      "outputs": []
    },
    {
      "cell_type": "markdown",
      "metadata": {
        "id": "o7_z-qquwSBi"
      },
      "source": [
        "###Análisis de Sentimiento"
      ]
    },
    {
      "cell_type": "markdown",
      "metadata": {
        "id": "BZeTiRbO6Qo5"
      },
      "source": [
        "Es necesario importar al proyecto el archivo AFINN-111.txt. Tras ello he configurado el programa para que haga un parser del documento y así crear un dictionary de sentimientos que será utilizado posteriormente para asignar a cada Tweet un \"índice de felicidad\""
      ]
    },
    {
      "cell_type": "code",
      "metadata": {
        "id": "Fd5bu2F_wWgn",
        "colab": {
          "base_uri": "https://localhost:8080/"
        },
        "outputId": "b27a635b-951c-4e94-ae64-0bca6f6b7aea"
      },
      "source": [
        "feelings = open('AFINN-111.txt', 'r')\n",
        "\n",
        "def initFeelingsDictionary():\n",
        "  dict = {}\n",
        "  for feeling in feelings:\n",
        "    feelingSplit = feeling.split('\\\\n')\n",
        "    feel = feelingSplit[0].replace('\\n', '').split('\\t')\n",
        "    dict[feel[0]] = feel[1]\n",
        "  return dict\n",
        "\n",
        "affinn = initFeelingsDictionary()\n",
        "\n",
        "# Para evitar problemas con los streamings recogí algunos tweets y los utilice como datos. De esta forma no habia necesidad de utilizar \n",
        "# los streams en todas las fases del desarrollo\n",
        "#testData = [{'text': '@barbiebayxx @NaijaEverything We from Africa it ain’t née plus I like younger girls 🌚🌚 she looks sweet', 'place': 'Georgia, USA'}, {'text': '@lonliestwolf Gooood....goooood https://t.co/QdQKaWl8xK', 'place': 'Columbus, OH'}, {'text': 'it’d be a lie to say that shit didn’t hurt my feelings.', 'place': 'Dallas, TX'}, {'text': 'I can’t complain...🤷🏾\\u200d♂️... it was all 4 the taking 🙇🏾\\u200d♂️', 'place': 'Oakland, CA'}, {'text': 'Flat Rock / Coon Creek: Running https://t.co/XnDGONy515', 'place': 'Alabama, USA'}, {'text': 'Don’t let No one get comfortable Disrespecting You!!!', 'place': 'Scio, MI'}, {'text': '@Thomas1774Paine Just like he was a Russian puppet right Eric? \\nHow’s that Russian Collusion fairytale going? Have… https://t.co/38iy7V6MgC', 'place': 'Russellton, PA'}, {'text': '@Oluomachi_u I believe in you!😭', 'place': 'Chicago, IL'}, {'text': '@iTS_MeMadiO You work at the 🏥', 'place': 'Dallas, TX'}]\n",
        "\n",
        "countryHappinness = {}\n",
        "#for tweet in testData:\n",
        "for tweet in tweets:\n",
        "  if ',' in tweet['place']:\n",
        "    code = tweet['place'].split(', ')[1]\n",
        "    for value in states:\n",
        "      if value['state'] == code:\n",
        "        happinessIndex = 0\n",
        "        for word in tweet['text'].split():\n",
        "          if word.lower() in affinn:\n",
        "            happinessIndex += int(affinn[word.lower()])\n",
        "        if value['state'] in countryHappinness:\n",
        "          totalHappiness = countryHappinness[value['state']]['happiness'] + happinessIndex\n",
        "        else:\n",
        "          totalHappiness = happinessIndex\n",
        "        countryHappinness.update({ value['state']: { 'happiness': totalHappiness, 'latitude': value['latitude'], 'longitude': value['longitude'], 'name': value['name'] } })\n",
        "print(countryHappinness)"
      ],
      "execution_count": 37,
      "outputs": [
        {
          "output_type": "stream",
          "text": [
            "{'TX': {'happiness': 5, 'latitude': '31.968599', 'longitude': '-99.901813', 'name': 'Texas'}, 'OH': {'happiness': 2, 'latitude': '40.417287', 'longitude': '-82.907123', 'name': 'Ohio'}, 'CT': {'happiness': 11, 'latitude': '41.603221', 'longitude': '-73.087749', 'name': 'Connecticut'}, 'NY': {'happiness': 6, 'latitude': '43.299428', 'longitude': '-74.217933', 'name': 'New York'}, 'GA': {'happiness': -4, 'latitude': '32.157435', 'longitude': '-82.907123', 'name': 'Georgia'}, 'CA': {'happiness': 8, 'latitude': '36.778261', 'longitude': '-119.417932', 'name': 'California'}, 'IL': {'happiness': 1, 'latitude': '40.633125', 'longitude': '-89.398528', 'name': 'Illinois'}, 'NC': {'happiness': 6, 'latitude': '35.759573', 'longitude': '-79.0193', 'name': 'North Carolina'}, 'MI': {'happiness': 1, 'latitude': '44.314844', 'longitude': '-85.602364', 'name': 'Michigan'}, 'NV': {'happiness': 6, 'latitude': '38.80261', 'longitude': '-116.419389', 'name': 'Nevada'}, 'FL': {'happiness': -8, 'latitude': '27.664827', 'longitude': '-81.515754', 'name': 'Florida'}, 'MA': {'happiness': -3, 'latitude': '42.407211', 'longitude': '-71.382437', 'name': 'Massachusetts'}, 'PA': {'happiness': 10, 'latitude': '41.203322', 'longitude': '-77.194525', 'name': 'Pennsylvania'}, 'VA': {'happiness': 0, 'latitude': '37.431573', 'longitude': '-78.656894', 'name': 'Virginia'}, 'CO': {'happiness': 2, 'latitude': '39.550051', 'longitude': '-105.782067', 'name': 'Colorado'}, 'MN': {'happiness': 12, 'latitude': '46.729553', 'longitude': '-94.6859', 'name': 'Minnesota'}, 'LA': {'happiness': -1, 'latitude': '31.244823', 'longitude': '-92.145024', 'name': 'Louisiana'}, 'AL': {'happiness': 3, 'latitude': '32.318231', 'longitude': '-86.902298', 'name': 'Alabama'}, 'DC': {'happiness': 4, 'latitude': '38.905985', 'longitude': '-77.033418', 'name': 'District of Columbia'}, 'WI': {'happiness': 3, 'latitude': '43.78444', 'longitude': '-88.787868', 'name': 'Wisconsin'}, 'NE': {'happiness': 3, 'latitude': '41.492537', 'longitude': '-99.901813', 'name': 'Nebraska'}, 'NJ': {'happiness': 6, 'latitude': '40.058324', 'longitude': '-74.405661', 'name': 'New Jersey'}, 'AZ': {'happiness': 0, 'latitude': '34.048928', 'longitude': '-111.093731', 'name': 'Arizona'}, 'NH': {'happiness': 2, 'latitude': '43.193852', 'longitude': '-71.572395', 'name': 'New Hampshire'}, 'OK': {'happiness': 1, 'latitude': '35.007752', 'longitude': '-97.092877', 'name': 'Oklahoma'}, 'IA': {'happiness': 1, 'latitude': '41.878003', 'longitude': '-93.097702', 'name': 'Iowa'}, 'IN': {'happiness': 1, 'latitude': '40.551217', 'longitude': '-85.602364', 'name': 'Indiana'}, 'TN': {'happiness': 0, 'latitude': '35.517491', 'longitude': '-86.580447', 'name': 'Tennessee'}, 'SC': {'happiness': 5, 'latitude': '33.836081', 'longitude': '-81.163725', 'name': 'South Carolina'}, 'NM': {'happiness': -1, 'latitude': '34.97273', 'longitude': '-105.032363', 'name': 'New Mexico'}, 'OR': {'happiness': 0, 'latitude': '43.804133', 'longitude': '-120.554201', 'name': 'Oregon'}, 'DE': {'happiness': 0, 'latitude': '38.910832', 'longitude': '-75.52767', 'name': 'Delaware'}, 'MD': {'happiness': 1, 'latitude': '39.045755', 'longitude': '-76.641271', 'name': 'Maryland'}, 'KS': {'happiness': 2, 'latitude': '39.011902', 'longitude': '-98.484246', 'name': 'Kansas'}, 'KY': {'happiness': 3, 'latitude': '37.839333', 'longitude': '-84.270018', 'name': 'Kentucky'}}\n"
          ],
          "name": "stdout"
        }
      ]
    },
    {
      "cell_type": "markdown",
      "metadata": {
        "id": "W1osH3RSwflW"
      },
      "source": [
        "## Map"
      ]
    },
    {
      "cell_type": "code",
      "metadata": {
        "colab": {
          "base_uri": "https://localhost:8080/"
        },
        "id": "Mgjw3D3QDlyj",
        "outputId": "1ccd8e6f-d880-41a1-cc61-66ccbb0bc59b"
      },
      "source": [
        "!pip install rasterio\n",
        "!pip install earthpy"
      ],
      "execution_count": 7,
      "outputs": [
        {
          "output_type": "stream",
          "text": [
            "Collecting rasterio\n",
            "\u001b[?25l  Downloading https://files.pythonhosted.org/packages/04/37/40712857e6c82cac52051d9faee43bc468e5806640ddbf88e10d591dbdf1/rasterio-1.2.1-cp37-cp37m-manylinux1_x86_64.whl (19.1MB)\n",
            "\u001b[K     |████████████████████████████████| 19.1MB 1.3MB/s \n",
            "\u001b[?25hCollecting affine\n",
            "  Downloading https://files.pythonhosted.org/packages/ac/a6/1a39a1ede71210e3ddaf623982b06ecfc5c5c03741ae659073159184cd3e/affine-2.3.0-py2.py3-none-any.whl\n",
            "Requirement already satisfied: attrs in /usr/local/lib/python3.7/dist-packages (from rasterio) (20.3.0)\n",
            "Requirement already satisfied: certifi in /usr/local/lib/python3.7/dist-packages (from rasterio) (2020.12.5)\n",
            "Collecting snuggs>=1.4.1\n",
            "  Downloading https://files.pythonhosted.org/packages/cc/0e/d27d6e806d6c0d1a2cfdc5d1f088e42339a0a54a09c3343f7f81ec8947ea/snuggs-1.4.7-py3-none-any.whl\n",
            "Collecting click-plugins\n",
            "  Downloading https://files.pythonhosted.org/packages/e9/da/824b92d9942f4e472702488857914bdd50f73021efea15b4cad9aca8ecef/click_plugins-1.1.1-py2.py3-none-any.whl\n",
            "Collecting cligj>=0.5\n",
            "  Downloading https://files.pythonhosted.org/packages/42/1e/947eadf10d6804bf276eb8a038bd5307996dceaaa41cfd21b7a15ec62f5d/cligj-0.7.1-py3-none-any.whl\n",
            "Requirement already satisfied: click<8,>=4.0 in /usr/local/lib/python3.7/dist-packages (from rasterio) (7.1.2)\n",
            "Requirement already satisfied: numpy in /usr/local/lib/python3.7/dist-packages (from rasterio) (1.19.5)\n",
            "Requirement already satisfied: pyparsing>=2.1.6 in /usr/local/lib/python3.7/dist-packages (from snuggs>=1.4.1->rasterio) (2.4.7)\n",
            "Installing collected packages: affine, snuggs, click-plugins, cligj, rasterio\n",
            "Successfully installed affine-2.3.0 click-plugins-1.1.1 cligj-0.7.1 rasterio-1.2.1 snuggs-1.4.7\n",
            "Collecting earthpy\n",
            "\u001b[?25l  Downloading https://files.pythonhosted.org/packages/2d/ee/30cd183c5b58c967ec52bb3bd8decc0a1798f15c94898b84e6ee6b0baa39/earthpy-0.9.2.tar.gz (1.4MB)\n",
            "\u001b[K     |████████████████████████████████| 1.4MB 3.2MB/s \n",
            "\u001b[?25h  Installing build dependencies ... \u001b[?25l\u001b[?25hdone\n",
            "  Getting requirements to build wheel ... \u001b[?25l\u001b[?25hdone\n",
            "    Preparing wheel metadata ... \u001b[?25l\u001b[?25hdone\n",
            "Requirement already satisfied: numpy>=1.14.0 in /usr/local/lib/python3.7/dist-packages (from earthpy) (1.19.5)\n",
            "Requirement already satisfied: scikit-image in /usr/local/lib/python3.7/dist-packages (from earthpy) (0.16.2)\n",
            "Requirement already satisfied: requests in /usr/local/lib/python3.7/dist-packages (from earthpy) (2.23.0)\n",
            "Requirement already satisfied: matplotlib>=2.0.0 in /usr/local/lib/python3.7/dist-packages (from earthpy) (3.2.2)\n",
            "Collecting geopandas\n",
            "\u001b[?25l  Downloading https://files.pythonhosted.org/packages/d7/bf/e9cefb69d39155d122b6ddca53893b61535fa6ffdad70bf5ef708977f53f/geopandas-0.9.0-py2.py3-none-any.whl (994kB)\n",
            "\u001b[K     |████████████████████████████████| 1.0MB 42.6MB/s \n",
            "\u001b[?25hRequirement already satisfied: rasterio in /usr/local/lib/python3.7/dist-packages (from earthpy) (1.2.1)\n",
            "Requirement already satisfied: PyWavelets>=0.4.0 in /usr/local/lib/python3.7/dist-packages (from scikit-image->earthpy) (1.1.1)\n",
            "Requirement already satisfied: scipy>=0.19.0 in /usr/local/lib/python3.7/dist-packages (from scikit-image->earthpy) (1.4.1)\n",
            "Requirement already satisfied: networkx>=2.0 in /usr/local/lib/python3.7/dist-packages (from scikit-image->earthpy) (2.5)\n",
            "Requirement already satisfied: imageio>=2.3.0 in /usr/local/lib/python3.7/dist-packages (from scikit-image->earthpy) (2.4.1)\n",
            "Requirement already satisfied: pillow>=4.3.0 in /usr/local/lib/python3.7/dist-packages (from scikit-image->earthpy) (7.0.0)\n",
            "Requirement already satisfied: chardet<4,>=3.0.2 in /usr/local/lib/python3.7/dist-packages (from requests->earthpy) (3.0.4)\n",
            "Requirement already satisfied: urllib3!=1.25.0,!=1.25.1,<1.26,>=1.21.1 in /usr/local/lib/python3.7/dist-packages (from requests->earthpy) (1.24.3)\n",
            "Requirement already satisfied: idna<3,>=2.5 in /usr/local/lib/python3.7/dist-packages (from requests->earthpy) (2.10)\n",
            "Requirement already satisfied: certifi>=2017.4.17 in /usr/local/lib/python3.7/dist-packages (from requests->earthpy) (2020.12.5)\n",
            "Requirement already satisfied: python-dateutil>=2.1 in /usr/local/lib/python3.7/dist-packages (from matplotlib>=2.0.0->earthpy) (2.8.1)\n",
            "Requirement already satisfied: cycler>=0.10 in /usr/local/lib/python3.7/dist-packages (from matplotlib>=2.0.0->earthpy) (0.10.0)\n",
            "Requirement already satisfied: pyparsing!=2.0.4,!=2.1.2,!=2.1.6,>=2.0.1 in /usr/local/lib/python3.7/dist-packages (from matplotlib>=2.0.0->earthpy) (2.4.7)\n",
            "Requirement already satisfied: kiwisolver>=1.0.1 in /usr/local/lib/python3.7/dist-packages (from matplotlib>=2.0.0->earthpy) (1.3.1)\n",
            "Requirement already satisfied: pandas>=0.24.0 in /usr/local/lib/python3.7/dist-packages (from geopandas->earthpy) (1.1.5)\n",
            "Requirement already satisfied: shapely>=1.6 in /usr/local/lib/python3.7/dist-packages (from geopandas->earthpy) (1.7.1)\n",
            "Collecting pyproj>=2.2.0\n",
            "\u001b[?25l  Downloading https://files.pythonhosted.org/packages/b1/72/d52e9ca81caef056062d71991b0e9b1d16af042245627c5d0e4916a36c4f/pyproj-3.0.1-cp37-cp37m-manylinux2010_x86_64.whl (6.5MB)\n",
            "\u001b[K     |████████████████████████████████| 6.5MB 51.1MB/s \n",
            "\u001b[?25hCollecting fiona>=1.8\n",
            "\u001b[?25l  Downloading https://files.pythonhosted.org/packages/47/c2/67d1d0acbaaee3b03e5e22e3b96c33219cb5dd392531c9ff9cee7c2eb3e4/Fiona-1.8.18-cp37-cp37m-manylinux1_x86_64.whl (14.8MB)\n",
            "\u001b[K     |████████████████████████████████| 14.8MB 336kB/s \n",
            "\u001b[?25hRequirement already satisfied: attrs in /usr/local/lib/python3.7/dist-packages (from rasterio->earthpy) (20.3.0)\n",
            "Requirement already satisfied: click-plugins in /usr/local/lib/python3.7/dist-packages (from rasterio->earthpy) (1.1.1)\n",
            "Requirement already satisfied: affine in /usr/local/lib/python3.7/dist-packages (from rasterio->earthpy) (2.3.0)\n",
            "Requirement already satisfied: snuggs>=1.4.1 in /usr/local/lib/python3.7/dist-packages (from rasterio->earthpy) (1.4.7)\n",
            "Requirement already satisfied: cligj>=0.5 in /usr/local/lib/python3.7/dist-packages (from rasterio->earthpy) (0.7.1)\n",
            "Requirement already satisfied: click<8,>=4.0 in /usr/local/lib/python3.7/dist-packages (from rasterio->earthpy) (7.1.2)\n",
            "Requirement already satisfied: decorator>=4.3.0 in /usr/local/lib/python3.7/dist-packages (from networkx>=2.0->scikit-image->earthpy) (4.4.2)\n",
            "Requirement already satisfied: six>=1.5 in /usr/local/lib/python3.7/dist-packages (from python-dateutil>=2.1->matplotlib>=2.0.0->earthpy) (1.15.0)\n",
            "Requirement already satisfied: pytz>=2017.2 in /usr/local/lib/python3.7/dist-packages (from pandas>=0.24.0->geopandas->earthpy) (2018.9)\n",
            "Collecting munch\n",
            "  Downloading https://files.pythonhosted.org/packages/cc/ab/85d8da5c9a45e072301beb37ad7f833cd344e04c817d97e0cc75681d248f/munch-2.5.0-py2.py3-none-any.whl\n",
            "Building wheels for collected packages: earthpy\n",
            "  Building wheel for earthpy (PEP 517) ... \u001b[?25l\u001b[?25hdone\n",
            "  Created wheel for earthpy: filename=earthpy-0.9.2-cp37-none-any.whl size=1365089 sha256=fd8db22055701c0c839057505e5f59407398e1fe58151e1d7304edaa9e1e8d1f\n",
            "  Stored in directory: /root/.cache/pip/wheels/27/f9/a5/026bb95ef7b12f9343b842da6897b4001c5b902550095cbbbe\n",
            "Successfully built earthpy\n",
            "Installing collected packages: pyproj, munch, fiona, geopandas, earthpy\n",
            "Successfully installed earthpy-0.9.2 fiona-1.8.18 geopandas-0.9.0 munch-2.5.0 pyproj-3.0.1\n"
          ],
          "name": "stdout"
        }
      ]
    },
    {
      "cell_type": "code",
      "metadata": {
        "id": "Z1MCkMte_cjX"
      },
      "source": [
        "import os \n",
        "import folium\n",
        "from folium import plugins\n",
        "import rasterio as rio\n",
        "from rasterio.warp import calculate_default_transform, reproject, Resampling\n",
        "import earthpy as et"
      ],
      "execution_count": 8,
      "outputs": []
    },
    {
      "cell_type": "code",
      "metadata": {
        "colab": {
          "base_uri": "https://localhost:8080/",
          "height": 915
        },
        "id": "XYw20RcVDhuE",
        "outputId": "9203e25d-28ea-44e8-a0b6-f208d1f08f50"
      },
      "source": [
        "# Crear el mapa con centro en USA\n",
        "m = folium.Map(location=[37.09024,\t-95.712891], zoom_start=4)\n",
        "\n",
        "# Añadir Markers al mapa\n",
        "for country in countryHappinness:\n",
        "  color = 'black'\n",
        "  happinessLevel = countryHappinness[country]['happiness']\n",
        "  if happinessLevel < -2:\n",
        "    color = 'red'\n",
        "  elif happinessLevel >= -2 and happinessLevel <= 2:\n",
        "      color = '#BDB76B'\n",
        "  elif happinessLevel > 2:\n",
        "      color = 'green'\n",
        "  folium.Marker(\n",
        "    location=[float(countryHappinness[country]['latitude']), float(countryHappinness[country]['longitude'])],\n",
        "    icon=folium.DivIcon(html=f\"\"\"<div style=\"color: {color}; font-size: 14px\">{countryHappinness[country]['happiness']}</div>\"\"\")\n",
        "  ).add_to(m)\n",
        "\n",
        "# Mostrar mapa\n",
        "m"
      ],
      "execution_count": 38,
      "outputs": [
        {
          "output_type": "execute_result",
          "data": {
            "text/html": [
              "<div style=\"width:100%;\"><div style=\"position:relative;width:100%;height:0;padding-bottom:60%;\"><span style=\"color:#565656\">Make this Notebook Trusted to load map: File -> Trust Notebook</span><iframe src=\"about:blank\" style=\"position:absolute;width:100%;height:100%;left:0;top:0;border:none !important;\" data-html=%3C%21DOCTYPE%20html%3E%0A%3Chead%3E%20%20%20%20%0A%20%20%20%20%3Cmeta%20http-equiv%3D%22content-type%22%20content%3D%22text/html%3B%20charset%3DUTF-8%22%20/%3E%0A%20%20%20%20%3Cscript%3EL_PREFER_CANVAS%3Dfalse%3B%20L_NO_TOUCH%3Dfalse%3B%20L_DISABLE_3D%3Dfalse%3B%3C/script%3E%0A%20%20%20%20%3Cscript%20src%3D%22https%3A//cdn.jsdelivr.net/npm/leaflet%401.4.0/dist/leaflet.js%22%3E%3C/script%3E%0A%20%20%20%20%3Cscript%20src%3D%22https%3A//code.jquery.com/jquery-1.12.4.min.js%22%3E%3C/script%3E%0A%20%20%20%20%3Cscript%20src%3D%22https%3A//maxcdn.bootstrapcdn.com/bootstrap/3.2.0/js/bootstrap.min.js%22%3E%3C/script%3E%0A%20%20%20%20%3Cscript%20src%3D%22https%3A//cdnjs.cloudflare.com/ajax/libs/Leaflet.awesome-markers/2.0.2/leaflet.awesome-markers.js%22%3E%3C/script%3E%0A%20%20%20%20%3Clink%20rel%3D%22stylesheet%22%20href%3D%22https%3A//cdn.jsdelivr.net/npm/leaflet%401.4.0/dist/leaflet.css%22/%3E%0A%20%20%20%20%3Clink%20rel%3D%22stylesheet%22%20href%3D%22https%3A//maxcdn.bootstrapcdn.com/bootstrap/3.2.0/css/bootstrap.min.css%22/%3E%0A%20%20%20%20%3Clink%20rel%3D%22stylesheet%22%20href%3D%22https%3A//maxcdn.bootstrapcdn.com/bootstrap/3.2.0/css/bootstrap-theme.min.css%22/%3E%0A%20%20%20%20%3Clink%20rel%3D%22stylesheet%22%20href%3D%22https%3A//maxcdn.bootstrapcdn.com/font-awesome/4.6.3/css/font-awesome.min.css%22/%3E%0A%20%20%20%20%3Clink%20rel%3D%22stylesheet%22%20href%3D%22https%3A//cdnjs.cloudflare.com/ajax/libs/Leaflet.awesome-markers/2.0.2/leaflet.awesome-markers.css%22/%3E%0A%20%20%20%20%3Clink%20rel%3D%22stylesheet%22%20href%3D%22https%3A//rawcdn.githack.com/python-visualization/folium/master/folium/templates/leaflet.awesome.rotate.css%22/%3E%0A%20%20%20%20%3Cstyle%3Ehtml%2C%20body%20%7Bwidth%3A%20100%25%3Bheight%3A%20100%25%3Bmargin%3A%200%3Bpadding%3A%200%3B%7D%3C/style%3E%0A%20%20%20%20%3Cstyle%3E%23map%20%7Bposition%3Aabsolute%3Btop%3A0%3Bbottom%3A0%3Bright%3A0%3Bleft%3A0%3B%7D%3C/style%3E%0A%20%20%20%20%0A%20%20%20%20%3Cmeta%20name%3D%22viewport%22%20content%3D%22width%3Ddevice-width%2C%0A%20%20%20%20%20%20%20%20initial-scale%3D1.0%2C%20maximum-scale%3D1.0%2C%20user-scalable%3Dno%22%20/%3E%0A%20%20%20%20%3Cstyle%3E%23map_4959025293974305a5c6f8fc935e2a36%20%7B%0A%20%20%20%20%20%20%20%20position%3A%20relative%3B%0A%20%20%20%20%20%20%20%20width%3A%20100.0%25%3B%0A%20%20%20%20%20%20%20%20height%3A%20100.0%25%3B%0A%20%20%20%20%20%20%20%20left%3A%200.0%25%3B%0A%20%20%20%20%20%20%20%20top%3A%200.0%25%3B%0A%20%20%20%20%20%20%20%20%7D%0A%20%20%20%20%3C/style%3E%0A%3C/head%3E%0A%3Cbody%3E%20%20%20%20%0A%20%20%20%20%0A%20%20%20%20%3Cdiv%20class%3D%22folium-map%22%20id%3D%22map_4959025293974305a5c6f8fc935e2a36%22%20%3E%3C/div%3E%0A%3C/body%3E%0A%3Cscript%3E%20%20%20%20%0A%20%20%20%20%0A%20%20%20%20%0A%20%20%20%20%20%20%20%20var%20bounds%20%3D%20null%3B%0A%20%20%20%20%0A%0A%20%20%20%20var%20map_4959025293974305a5c6f8fc935e2a36%20%3D%20L.map%28%0A%20%20%20%20%20%20%20%20%27map_4959025293974305a5c6f8fc935e2a36%27%2C%20%7B%0A%20%20%20%20%20%20%20%20center%3A%20%5B37.09024%2C%20-95.712891%5D%2C%0A%20%20%20%20%20%20%20%20zoom%3A%204%2C%0A%20%20%20%20%20%20%20%20maxBounds%3A%20bounds%2C%0A%20%20%20%20%20%20%20%20layers%3A%20%5B%5D%2C%0A%20%20%20%20%20%20%20%20worldCopyJump%3A%20false%2C%0A%20%20%20%20%20%20%20%20crs%3A%20L.CRS.EPSG3857%2C%0A%20%20%20%20%20%20%20%20zoomControl%3A%20true%2C%0A%20%20%20%20%20%20%20%20%7D%29%3B%0A%0A%0A%20%20%20%20%0A%20%20%20%20var%20tile_layer_25e07978dcbe4c03a60dc441e3c76928%20%3D%20L.tileLayer%28%0A%20%20%20%20%20%20%20%20%27https%3A//%7Bs%7D.tile.openstreetmap.org/%7Bz%7D/%7Bx%7D/%7By%7D.png%27%2C%0A%20%20%20%20%20%20%20%20%7B%0A%20%20%20%20%20%20%20%20%22attribution%22%3A%20null%2C%0A%20%20%20%20%20%20%20%20%22detectRetina%22%3A%20false%2C%0A%20%20%20%20%20%20%20%20%22maxNativeZoom%22%3A%2018%2C%0A%20%20%20%20%20%20%20%20%22maxZoom%22%3A%2018%2C%0A%20%20%20%20%20%20%20%20%22minZoom%22%3A%200%2C%0A%20%20%20%20%20%20%20%20%22noWrap%22%3A%20false%2C%0A%20%20%20%20%20%20%20%20%22opacity%22%3A%201%2C%0A%20%20%20%20%20%20%20%20%22subdomains%22%3A%20%22abc%22%2C%0A%20%20%20%20%20%20%20%20%22tms%22%3A%20false%0A%7D%29.addTo%28map_4959025293974305a5c6f8fc935e2a36%29%3B%0A%20%20%20%20%0A%20%20%20%20%20%20%20%20var%20marker_de19b0951fd942cbaa4f5b1a0bfcb607%20%3D%20L.marker%28%0A%20%20%20%20%20%20%20%20%20%20%20%20%5B31.968599%2C%20-99.901813%5D%2C%0A%20%20%20%20%20%20%20%20%20%20%20%20%7B%0A%20%20%20%20%20%20%20%20%20%20%20%20%20%20%20%20icon%3A%20new%20L.Icon.Default%28%29%2C%0A%20%20%20%20%20%20%20%20%20%20%20%20%20%20%20%20%7D%0A%20%20%20%20%20%20%20%20%20%20%20%20%29.addTo%28map_4959025293974305a5c6f8fc935e2a36%29%3B%0A%20%20%20%20%20%20%20%20%0A%20%20%20%20%0A%0A%20%20%20%20%20%20%20%20%20%20%20%20%20%20%20%20var%20div_icon_85c22f97c93341d3bc0ad5e09bec39d5%20%3D%20L.divIcon%28%7B%0A%20%20%20%20%20%20%20%20%20%20%20%20%20%20%20%20%20%20%20%20%0A%20%20%20%20%20%20%20%20%20%20%20%20%20%20%20%20%20%20%20%20%0A%20%20%20%20%20%20%20%20%20%20%20%20%20%20%20%20%20%20%20%20%0A%20%20%20%20%20%20%20%20%20%20%20%20%20%20%20%20%20%20%20%20className%3A%20%27empty%27%2C%0A%20%20%20%20%20%20%20%20%20%20%20%20%20%20%20%20%20%20%20%20html%3A%20%60%3Cdiv%20style%3D%22color%3A%20green%3B%20font-size%3A%2014px%22%3E5%3C/div%3E%60%2C%0A%20%20%20%20%20%20%20%20%20%20%20%20%20%20%20%20%20%20%20%20%7D%29%3B%0A%20%20%20%20%20%20%20%20%20%20%20%20%20%20%20%20marker_de19b0951fd942cbaa4f5b1a0bfcb607.setIcon%28div_icon_85c22f97c93341d3bc0ad5e09bec39d5%29%3B%0A%20%20%20%20%20%20%20%20%20%20%20%20%0A%20%20%20%20%0A%20%20%20%20%20%20%20%20var%20marker_305d695a1fd6447e929373f9e0027671%20%3D%20L.marker%28%0A%20%20%20%20%20%20%20%20%20%20%20%20%5B40.417287%2C%20-82.907123%5D%2C%0A%20%20%20%20%20%20%20%20%20%20%20%20%7B%0A%20%20%20%20%20%20%20%20%20%20%20%20%20%20%20%20icon%3A%20new%20L.Icon.Default%28%29%2C%0A%20%20%20%20%20%20%20%20%20%20%20%20%20%20%20%20%7D%0A%20%20%20%20%20%20%20%20%20%20%20%20%29.addTo%28map_4959025293974305a5c6f8fc935e2a36%29%3B%0A%20%20%20%20%20%20%20%20%0A%20%20%20%20%0A%0A%20%20%20%20%20%20%20%20%20%20%20%20%20%20%20%20var%20div_icon_5f904a69a3d241dcb77eba2aff30d3bf%20%3D%20L.divIcon%28%7B%0A%20%20%20%20%20%20%20%20%20%20%20%20%20%20%20%20%20%20%20%20%0A%20%20%20%20%20%20%20%20%20%20%20%20%20%20%20%20%20%20%20%20%0A%20%20%20%20%20%20%20%20%20%20%20%20%20%20%20%20%20%20%20%20%0A%20%20%20%20%20%20%20%20%20%20%20%20%20%20%20%20%20%20%20%20className%3A%20%27empty%27%2C%0A%20%20%20%20%20%20%20%20%20%20%20%20%20%20%20%20%20%20%20%20html%3A%20%60%3Cdiv%20style%3D%22color%3A%20%23BDB76B%3B%20font-size%3A%2014px%22%3E2%3C/div%3E%60%2C%0A%20%20%20%20%20%20%20%20%20%20%20%20%20%20%20%20%20%20%20%20%7D%29%3B%0A%20%20%20%20%20%20%20%20%20%20%20%20%20%20%20%20marker_305d695a1fd6447e929373f9e0027671.setIcon%28div_icon_5f904a69a3d241dcb77eba2aff30d3bf%29%3B%0A%20%20%20%20%20%20%20%20%20%20%20%20%0A%20%20%20%20%0A%20%20%20%20%20%20%20%20var%20marker_87fd344a3a4f4eedb1576a71d90e1c3b%20%3D%20L.marker%28%0A%20%20%20%20%20%20%20%20%20%20%20%20%5B41.603221%2C%20-73.087749%5D%2C%0A%20%20%20%20%20%20%20%20%20%20%20%20%7B%0A%20%20%20%20%20%20%20%20%20%20%20%20%20%20%20%20icon%3A%20new%20L.Icon.Default%28%29%2C%0A%20%20%20%20%20%20%20%20%20%20%20%20%20%20%20%20%7D%0A%20%20%20%20%20%20%20%20%20%20%20%20%29.addTo%28map_4959025293974305a5c6f8fc935e2a36%29%3B%0A%20%20%20%20%20%20%20%20%0A%20%20%20%20%0A%0A%20%20%20%20%20%20%20%20%20%20%20%20%20%20%20%20var%20div_icon_d5017eee6852476787a121539e2d966e%20%3D%20L.divIcon%28%7B%0A%20%20%20%20%20%20%20%20%20%20%20%20%20%20%20%20%20%20%20%20%0A%20%20%20%20%20%20%20%20%20%20%20%20%20%20%20%20%20%20%20%20%0A%20%20%20%20%20%20%20%20%20%20%20%20%20%20%20%20%20%20%20%20%0A%20%20%20%20%20%20%20%20%20%20%20%20%20%20%20%20%20%20%20%20className%3A%20%27empty%27%2C%0A%20%20%20%20%20%20%20%20%20%20%20%20%20%20%20%20%20%20%20%20html%3A%20%60%3Cdiv%20style%3D%22color%3A%20green%3B%20font-size%3A%2014px%22%3E11%3C/div%3E%60%2C%0A%20%20%20%20%20%20%20%20%20%20%20%20%20%20%20%20%20%20%20%20%7D%29%3B%0A%20%20%20%20%20%20%20%20%20%20%20%20%20%20%20%20marker_87fd344a3a4f4eedb1576a71d90e1c3b.setIcon%28div_icon_d5017eee6852476787a121539e2d966e%29%3B%0A%20%20%20%20%20%20%20%20%20%20%20%20%0A%20%20%20%20%0A%20%20%20%20%20%20%20%20var%20marker_4af7a665e72f40a7a9418df88f1f7600%20%3D%20L.marker%28%0A%20%20%20%20%20%20%20%20%20%20%20%20%5B43.299428%2C%20-74.217933%5D%2C%0A%20%20%20%20%20%20%20%20%20%20%20%20%7B%0A%20%20%20%20%20%20%20%20%20%20%20%20%20%20%20%20icon%3A%20new%20L.Icon.Default%28%29%2C%0A%20%20%20%20%20%20%20%20%20%20%20%20%20%20%20%20%7D%0A%20%20%20%20%20%20%20%20%20%20%20%20%29.addTo%28map_4959025293974305a5c6f8fc935e2a36%29%3B%0A%20%20%20%20%20%20%20%20%0A%20%20%20%20%0A%0A%20%20%20%20%20%20%20%20%20%20%20%20%20%20%20%20var%20div_icon_01b0b0eb1404456da144823c6540a500%20%3D%20L.divIcon%28%7B%0A%20%20%20%20%20%20%20%20%20%20%20%20%20%20%20%20%20%20%20%20%0A%20%20%20%20%20%20%20%20%20%20%20%20%20%20%20%20%20%20%20%20%0A%20%20%20%20%20%20%20%20%20%20%20%20%20%20%20%20%20%20%20%20%0A%20%20%20%20%20%20%20%20%20%20%20%20%20%20%20%20%20%20%20%20className%3A%20%27empty%27%2C%0A%20%20%20%20%20%20%20%20%20%20%20%20%20%20%20%20%20%20%20%20html%3A%20%60%3Cdiv%20style%3D%22color%3A%20green%3B%20font-size%3A%2014px%22%3E6%3C/div%3E%60%2C%0A%20%20%20%20%20%20%20%20%20%20%20%20%20%20%20%20%20%20%20%20%7D%29%3B%0A%20%20%20%20%20%20%20%20%20%20%20%20%20%20%20%20marker_4af7a665e72f40a7a9418df88f1f7600.setIcon%28div_icon_01b0b0eb1404456da144823c6540a500%29%3B%0A%20%20%20%20%20%20%20%20%20%20%20%20%0A%20%20%20%20%0A%20%20%20%20%20%20%20%20var%20marker_7029d19c2e944512b2db449f54e32961%20%3D%20L.marker%28%0A%20%20%20%20%20%20%20%20%20%20%20%20%5B32.157435%2C%20-82.907123%5D%2C%0A%20%20%20%20%20%20%20%20%20%20%20%20%7B%0A%20%20%20%20%20%20%20%20%20%20%20%20%20%20%20%20icon%3A%20new%20L.Icon.Default%28%29%2C%0A%20%20%20%20%20%20%20%20%20%20%20%20%20%20%20%20%7D%0A%20%20%20%20%20%20%20%20%20%20%20%20%29.addTo%28map_4959025293974305a5c6f8fc935e2a36%29%3B%0A%20%20%20%20%20%20%20%20%0A%20%20%20%20%0A%0A%20%20%20%20%20%20%20%20%20%20%20%20%20%20%20%20var%20div_icon_138b6db5976640bfa33ab9b83a88c208%20%3D%20L.divIcon%28%7B%0A%20%20%20%20%20%20%20%20%20%20%20%20%20%20%20%20%20%20%20%20%0A%20%20%20%20%20%20%20%20%20%20%20%20%20%20%20%20%20%20%20%20%0A%20%20%20%20%20%20%20%20%20%20%20%20%20%20%20%20%20%20%20%20%0A%20%20%20%20%20%20%20%20%20%20%20%20%20%20%20%20%20%20%20%20className%3A%20%27empty%27%2C%0A%20%20%20%20%20%20%20%20%20%20%20%20%20%20%20%20%20%20%20%20html%3A%20%60%3Cdiv%20style%3D%22color%3A%20red%3B%20font-size%3A%2014px%22%3E-4%3C/div%3E%60%2C%0A%20%20%20%20%20%20%20%20%20%20%20%20%20%20%20%20%20%20%20%20%7D%29%3B%0A%20%20%20%20%20%20%20%20%20%20%20%20%20%20%20%20marker_7029d19c2e944512b2db449f54e32961.setIcon%28div_icon_138b6db5976640bfa33ab9b83a88c208%29%3B%0A%20%20%20%20%20%20%20%20%20%20%20%20%0A%20%20%20%20%0A%20%20%20%20%20%20%20%20var%20marker_995a21fe5d584a8f9d145b81dc18817c%20%3D%20L.marker%28%0A%20%20%20%20%20%20%20%20%20%20%20%20%5B36.778261%2C%20-119.417932%5D%2C%0A%20%20%20%20%20%20%20%20%20%20%20%20%7B%0A%20%20%20%20%20%20%20%20%20%20%20%20%20%20%20%20icon%3A%20new%20L.Icon.Default%28%29%2C%0A%20%20%20%20%20%20%20%20%20%20%20%20%20%20%20%20%7D%0A%20%20%20%20%20%20%20%20%20%20%20%20%29.addTo%28map_4959025293974305a5c6f8fc935e2a36%29%3B%0A%20%20%20%20%20%20%20%20%0A%20%20%20%20%0A%0A%20%20%20%20%20%20%20%20%20%20%20%20%20%20%20%20var%20div_icon_cf294010e0394f1aa4d6c6929f991d3c%20%3D%20L.divIcon%28%7B%0A%20%20%20%20%20%20%20%20%20%20%20%20%20%20%20%20%20%20%20%20%0A%20%20%20%20%20%20%20%20%20%20%20%20%20%20%20%20%20%20%20%20%0A%20%20%20%20%20%20%20%20%20%20%20%20%20%20%20%20%20%20%20%20%0A%20%20%20%20%20%20%20%20%20%20%20%20%20%20%20%20%20%20%20%20className%3A%20%27empty%27%2C%0A%20%20%20%20%20%20%20%20%20%20%20%20%20%20%20%20%20%20%20%20html%3A%20%60%3Cdiv%20style%3D%22color%3A%20green%3B%20font-size%3A%2014px%22%3E8%3C/div%3E%60%2C%0A%20%20%20%20%20%20%20%20%20%20%20%20%20%20%20%20%20%20%20%20%7D%29%3B%0A%20%20%20%20%20%20%20%20%20%20%20%20%20%20%20%20marker_995a21fe5d584a8f9d145b81dc18817c.setIcon%28div_icon_cf294010e0394f1aa4d6c6929f991d3c%29%3B%0A%20%20%20%20%20%20%20%20%20%20%20%20%0A%20%20%20%20%0A%20%20%20%20%20%20%20%20var%20marker_f3b3da9812d649f1bbe6366cb2109761%20%3D%20L.marker%28%0A%20%20%20%20%20%20%20%20%20%20%20%20%5B40.633125%2C%20-89.398528%5D%2C%0A%20%20%20%20%20%20%20%20%20%20%20%20%7B%0A%20%20%20%20%20%20%20%20%20%20%20%20%20%20%20%20icon%3A%20new%20L.Icon.Default%28%29%2C%0A%20%20%20%20%20%20%20%20%20%20%20%20%20%20%20%20%7D%0A%20%20%20%20%20%20%20%20%20%20%20%20%29.addTo%28map_4959025293974305a5c6f8fc935e2a36%29%3B%0A%20%20%20%20%20%20%20%20%0A%20%20%20%20%0A%0A%20%20%20%20%20%20%20%20%20%20%20%20%20%20%20%20var%20div_icon_342935368e584b5c845ec8fe75efd905%20%3D%20L.divIcon%28%7B%0A%20%20%20%20%20%20%20%20%20%20%20%20%20%20%20%20%20%20%20%20%0A%20%20%20%20%20%20%20%20%20%20%20%20%20%20%20%20%20%20%20%20%0A%20%20%20%20%20%20%20%20%20%20%20%20%20%20%20%20%20%20%20%20%0A%20%20%20%20%20%20%20%20%20%20%20%20%20%20%20%20%20%20%20%20className%3A%20%27empty%27%2C%0A%20%20%20%20%20%20%20%20%20%20%20%20%20%20%20%20%20%20%20%20html%3A%20%60%3Cdiv%20style%3D%22color%3A%20%23BDB76B%3B%20font-size%3A%2014px%22%3E1%3C/div%3E%60%2C%0A%20%20%20%20%20%20%20%20%20%20%20%20%20%20%20%20%20%20%20%20%7D%29%3B%0A%20%20%20%20%20%20%20%20%20%20%20%20%20%20%20%20marker_f3b3da9812d649f1bbe6366cb2109761.setIcon%28div_icon_342935368e584b5c845ec8fe75efd905%29%3B%0A%20%20%20%20%20%20%20%20%20%20%20%20%0A%20%20%20%20%0A%20%20%20%20%20%20%20%20var%20marker_1ce8b384b7cf41d0b2d9f76332c0325f%20%3D%20L.marker%28%0A%20%20%20%20%20%20%20%20%20%20%20%20%5B35.759573%2C%20-79.0193%5D%2C%0A%20%20%20%20%20%20%20%20%20%20%20%20%7B%0A%20%20%20%20%20%20%20%20%20%20%20%20%20%20%20%20icon%3A%20new%20L.Icon.Default%28%29%2C%0A%20%20%20%20%20%20%20%20%20%20%20%20%20%20%20%20%7D%0A%20%20%20%20%20%20%20%20%20%20%20%20%29.addTo%28map_4959025293974305a5c6f8fc935e2a36%29%3B%0A%20%20%20%20%20%20%20%20%0A%20%20%20%20%0A%0A%20%20%20%20%20%20%20%20%20%20%20%20%20%20%20%20var%20div_icon_934d04c8a2994e378decdccc1fedcd63%20%3D%20L.divIcon%28%7B%0A%20%20%20%20%20%20%20%20%20%20%20%20%20%20%20%20%20%20%20%20%0A%20%20%20%20%20%20%20%20%20%20%20%20%20%20%20%20%20%20%20%20%0A%20%20%20%20%20%20%20%20%20%20%20%20%20%20%20%20%20%20%20%20%0A%20%20%20%20%20%20%20%20%20%20%20%20%20%20%20%20%20%20%20%20className%3A%20%27empty%27%2C%0A%20%20%20%20%20%20%20%20%20%20%20%20%20%20%20%20%20%20%20%20html%3A%20%60%3Cdiv%20style%3D%22color%3A%20green%3B%20font-size%3A%2014px%22%3E6%3C/div%3E%60%2C%0A%20%20%20%20%20%20%20%20%20%20%20%20%20%20%20%20%20%20%20%20%7D%29%3B%0A%20%20%20%20%20%20%20%20%20%20%20%20%20%20%20%20marker_1ce8b384b7cf41d0b2d9f76332c0325f.setIcon%28div_icon_934d04c8a2994e378decdccc1fedcd63%29%3B%0A%20%20%20%20%20%20%20%20%20%20%20%20%0A%20%20%20%20%0A%20%20%20%20%20%20%20%20var%20marker_2f76b5b5c8b24575b6a90d116195cd5d%20%3D%20L.marker%28%0A%20%20%20%20%20%20%20%20%20%20%20%20%5B44.314844%2C%20-85.602364%5D%2C%0A%20%20%20%20%20%20%20%20%20%20%20%20%7B%0A%20%20%20%20%20%20%20%20%20%20%20%20%20%20%20%20icon%3A%20new%20L.Icon.Default%28%29%2C%0A%20%20%20%20%20%20%20%20%20%20%20%20%20%20%20%20%7D%0A%20%20%20%20%20%20%20%20%20%20%20%20%29.addTo%28map_4959025293974305a5c6f8fc935e2a36%29%3B%0A%20%20%20%20%20%20%20%20%0A%20%20%20%20%0A%0A%20%20%20%20%20%20%20%20%20%20%20%20%20%20%20%20var%20div_icon_3895803ce27c4420a42c38866765b82c%20%3D%20L.divIcon%28%7B%0A%20%20%20%20%20%20%20%20%20%20%20%20%20%20%20%20%20%20%20%20%0A%20%20%20%20%20%20%20%20%20%20%20%20%20%20%20%20%20%20%20%20%0A%20%20%20%20%20%20%20%20%20%20%20%20%20%20%20%20%20%20%20%20%0A%20%20%20%20%20%20%20%20%20%20%20%20%20%20%20%20%20%20%20%20className%3A%20%27empty%27%2C%0A%20%20%20%20%20%20%20%20%20%20%20%20%20%20%20%20%20%20%20%20html%3A%20%60%3Cdiv%20style%3D%22color%3A%20%23BDB76B%3B%20font-size%3A%2014px%22%3E1%3C/div%3E%60%2C%0A%20%20%20%20%20%20%20%20%20%20%20%20%20%20%20%20%20%20%20%20%7D%29%3B%0A%20%20%20%20%20%20%20%20%20%20%20%20%20%20%20%20marker_2f76b5b5c8b24575b6a90d116195cd5d.setIcon%28div_icon_3895803ce27c4420a42c38866765b82c%29%3B%0A%20%20%20%20%20%20%20%20%20%20%20%20%0A%20%20%20%20%0A%20%20%20%20%20%20%20%20var%20marker_9ef35178dcc9446a881eea4f7b9885f8%20%3D%20L.marker%28%0A%20%20%20%20%20%20%20%20%20%20%20%20%5B38.80261%2C%20-116.419389%5D%2C%0A%20%20%20%20%20%20%20%20%20%20%20%20%7B%0A%20%20%20%20%20%20%20%20%20%20%20%20%20%20%20%20icon%3A%20new%20L.Icon.Default%28%29%2C%0A%20%20%20%20%20%20%20%20%20%20%20%20%20%20%20%20%7D%0A%20%20%20%20%20%20%20%20%20%20%20%20%29.addTo%28map_4959025293974305a5c6f8fc935e2a36%29%3B%0A%20%20%20%20%20%20%20%20%0A%20%20%20%20%0A%0A%20%20%20%20%20%20%20%20%20%20%20%20%20%20%20%20var%20div_icon_19faa3774c3b45648f635f47a7c2b85e%20%3D%20L.divIcon%28%7B%0A%20%20%20%20%20%20%20%20%20%20%20%20%20%20%20%20%20%20%20%20%0A%20%20%20%20%20%20%20%20%20%20%20%20%20%20%20%20%20%20%20%20%0A%20%20%20%20%20%20%20%20%20%20%20%20%20%20%20%20%20%20%20%20%0A%20%20%20%20%20%20%20%20%20%20%20%20%20%20%20%20%20%20%20%20className%3A%20%27empty%27%2C%0A%20%20%20%20%20%20%20%20%20%20%20%20%20%20%20%20%20%20%20%20html%3A%20%60%3Cdiv%20style%3D%22color%3A%20green%3B%20font-size%3A%2014px%22%3E6%3C/div%3E%60%2C%0A%20%20%20%20%20%20%20%20%20%20%20%20%20%20%20%20%20%20%20%20%7D%29%3B%0A%20%20%20%20%20%20%20%20%20%20%20%20%20%20%20%20marker_9ef35178dcc9446a881eea4f7b9885f8.setIcon%28div_icon_19faa3774c3b45648f635f47a7c2b85e%29%3B%0A%20%20%20%20%20%20%20%20%20%20%20%20%0A%20%20%20%20%0A%20%20%20%20%20%20%20%20var%20marker_18dffd8e0f0f4a0bbbb5506d373ec3f7%20%3D%20L.marker%28%0A%20%20%20%20%20%20%20%20%20%20%20%20%5B27.664827%2C%20-81.515754%5D%2C%0A%20%20%20%20%20%20%20%20%20%20%20%20%7B%0A%20%20%20%20%20%20%20%20%20%20%20%20%20%20%20%20icon%3A%20new%20L.Icon.Default%28%29%2C%0A%20%20%20%20%20%20%20%20%20%20%20%20%20%20%20%20%7D%0A%20%20%20%20%20%20%20%20%20%20%20%20%29.addTo%28map_4959025293974305a5c6f8fc935e2a36%29%3B%0A%20%20%20%20%20%20%20%20%0A%20%20%20%20%0A%0A%20%20%20%20%20%20%20%20%20%20%20%20%20%20%20%20var%20div_icon_8f7e384eb3fa4292a8878a36a8eeeb99%20%3D%20L.divIcon%28%7B%0A%20%20%20%20%20%20%20%20%20%20%20%20%20%20%20%20%20%20%20%20%0A%20%20%20%20%20%20%20%20%20%20%20%20%20%20%20%20%20%20%20%20%0A%20%20%20%20%20%20%20%20%20%20%20%20%20%20%20%20%20%20%20%20%0A%20%20%20%20%20%20%20%20%20%20%20%20%20%20%20%20%20%20%20%20className%3A%20%27empty%27%2C%0A%20%20%20%20%20%20%20%20%20%20%20%20%20%20%20%20%20%20%20%20html%3A%20%60%3Cdiv%20style%3D%22color%3A%20red%3B%20font-size%3A%2014px%22%3E-8%3C/div%3E%60%2C%0A%20%20%20%20%20%20%20%20%20%20%20%20%20%20%20%20%20%20%20%20%7D%29%3B%0A%20%20%20%20%20%20%20%20%20%20%20%20%20%20%20%20marker_18dffd8e0f0f4a0bbbb5506d373ec3f7.setIcon%28div_icon_8f7e384eb3fa4292a8878a36a8eeeb99%29%3B%0A%20%20%20%20%20%20%20%20%20%20%20%20%0A%20%20%20%20%0A%20%20%20%20%20%20%20%20var%20marker_16a32a21a3e5430787e582bfc8c98248%20%3D%20L.marker%28%0A%20%20%20%20%20%20%20%20%20%20%20%20%5B42.407211%2C%20-71.382437%5D%2C%0A%20%20%20%20%20%20%20%20%20%20%20%20%7B%0A%20%20%20%20%20%20%20%20%20%20%20%20%20%20%20%20icon%3A%20new%20L.Icon.Default%28%29%2C%0A%20%20%20%20%20%20%20%20%20%20%20%20%20%20%20%20%7D%0A%20%20%20%20%20%20%20%20%20%20%20%20%29.addTo%28map_4959025293974305a5c6f8fc935e2a36%29%3B%0A%20%20%20%20%20%20%20%20%0A%20%20%20%20%0A%0A%20%20%20%20%20%20%20%20%20%20%20%20%20%20%20%20var%20div_icon_329aa82285964293b80f0095ec684a2b%20%3D%20L.divIcon%28%7B%0A%20%20%20%20%20%20%20%20%20%20%20%20%20%20%20%20%20%20%20%20%0A%20%20%20%20%20%20%20%20%20%20%20%20%20%20%20%20%20%20%20%20%0A%20%20%20%20%20%20%20%20%20%20%20%20%20%20%20%20%20%20%20%20%0A%20%20%20%20%20%20%20%20%20%20%20%20%20%20%20%20%20%20%20%20className%3A%20%27empty%27%2C%0A%20%20%20%20%20%20%20%20%20%20%20%20%20%20%20%20%20%20%20%20html%3A%20%60%3Cdiv%20style%3D%22color%3A%20red%3B%20font-size%3A%2014px%22%3E-3%3C/div%3E%60%2C%0A%20%20%20%20%20%20%20%20%20%20%20%20%20%20%20%20%20%20%20%20%7D%29%3B%0A%20%20%20%20%20%20%20%20%20%20%20%20%20%20%20%20marker_16a32a21a3e5430787e582bfc8c98248.setIcon%28div_icon_329aa82285964293b80f0095ec684a2b%29%3B%0A%20%20%20%20%20%20%20%20%20%20%20%20%0A%20%20%20%20%0A%20%20%20%20%20%20%20%20var%20marker_c3bb1c0f44ae42878adbce8bd726ba17%20%3D%20L.marker%28%0A%20%20%20%20%20%20%20%20%20%20%20%20%5B41.203322%2C%20-77.194525%5D%2C%0A%20%20%20%20%20%20%20%20%20%20%20%20%7B%0A%20%20%20%20%20%20%20%20%20%20%20%20%20%20%20%20icon%3A%20new%20L.Icon.Default%28%29%2C%0A%20%20%20%20%20%20%20%20%20%20%20%20%20%20%20%20%7D%0A%20%20%20%20%20%20%20%20%20%20%20%20%29.addTo%28map_4959025293974305a5c6f8fc935e2a36%29%3B%0A%20%20%20%20%20%20%20%20%0A%20%20%20%20%0A%0A%20%20%20%20%20%20%20%20%20%20%20%20%20%20%20%20var%20div_icon_ddcbfef7db1d4eae871133ec604c163c%20%3D%20L.divIcon%28%7B%0A%20%20%20%20%20%20%20%20%20%20%20%20%20%20%20%20%20%20%20%20%0A%20%20%20%20%20%20%20%20%20%20%20%20%20%20%20%20%20%20%20%20%0A%20%20%20%20%20%20%20%20%20%20%20%20%20%20%20%20%20%20%20%20%0A%20%20%20%20%20%20%20%20%20%20%20%20%20%20%20%20%20%20%20%20className%3A%20%27empty%27%2C%0A%20%20%20%20%20%20%20%20%20%20%20%20%20%20%20%20%20%20%20%20html%3A%20%60%3Cdiv%20style%3D%22color%3A%20green%3B%20font-size%3A%2014px%22%3E10%3C/div%3E%60%2C%0A%20%20%20%20%20%20%20%20%20%20%20%20%20%20%20%20%20%20%20%20%7D%29%3B%0A%20%20%20%20%20%20%20%20%20%20%20%20%20%20%20%20marker_c3bb1c0f44ae42878adbce8bd726ba17.setIcon%28div_icon_ddcbfef7db1d4eae871133ec604c163c%29%3B%0A%20%20%20%20%20%20%20%20%20%20%20%20%0A%20%20%20%20%0A%20%20%20%20%20%20%20%20var%20marker_4b8e607bf2bd453f8af64fcae95ccb4a%20%3D%20L.marker%28%0A%20%20%20%20%20%20%20%20%20%20%20%20%5B37.431573%2C%20-78.656894%5D%2C%0A%20%20%20%20%20%20%20%20%20%20%20%20%7B%0A%20%20%20%20%20%20%20%20%20%20%20%20%20%20%20%20icon%3A%20new%20L.Icon.Default%28%29%2C%0A%20%20%20%20%20%20%20%20%20%20%20%20%20%20%20%20%7D%0A%20%20%20%20%20%20%20%20%20%20%20%20%29.addTo%28map_4959025293974305a5c6f8fc935e2a36%29%3B%0A%20%20%20%20%20%20%20%20%0A%20%20%20%20%0A%0A%20%20%20%20%20%20%20%20%20%20%20%20%20%20%20%20var%20div_icon_cd81ea6190ec40beba314522ed559df2%20%3D%20L.divIcon%28%7B%0A%20%20%20%20%20%20%20%20%20%20%20%20%20%20%20%20%20%20%20%20%0A%20%20%20%20%20%20%20%20%20%20%20%20%20%20%20%20%20%20%20%20%0A%20%20%20%20%20%20%20%20%20%20%20%20%20%20%20%20%20%20%20%20%0A%20%20%20%20%20%20%20%20%20%20%20%20%20%20%20%20%20%20%20%20className%3A%20%27empty%27%2C%0A%20%20%20%20%20%20%20%20%20%20%20%20%20%20%20%20%20%20%20%20html%3A%20%60%3Cdiv%20style%3D%22color%3A%20%23BDB76B%3B%20font-size%3A%2014px%22%3E0%3C/div%3E%60%2C%0A%20%20%20%20%20%20%20%20%20%20%20%20%20%20%20%20%20%20%20%20%7D%29%3B%0A%20%20%20%20%20%20%20%20%20%20%20%20%20%20%20%20marker_4b8e607bf2bd453f8af64fcae95ccb4a.setIcon%28div_icon_cd81ea6190ec40beba314522ed559df2%29%3B%0A%20%20%20%20%20%20%20%20%20%20%20%20%0A%20%20%20%20%0A%20%20%20%20%20%20%20%20var%20marker_dc23c767269240168d8bba2c6b2af19f%20%3D%20L.marker%28%0A%20%20%20%20%20%20%20%20%20%20%20%20%5B39.550051%2C%20-105.782067%5D%2C%0A%20%20%20%20%20%20%20%20%20%20%20%20%7B%0A%20%20%20%20%20%20%20%20%20%20%20%20%20%20%20%20icon%3A%20new%20L.Icon.Default%28%29%2C%0A%20%20%20%20%20%20%20%20%20%20%20%20%20%20%20%20%7D%0A%20%20%20%20%20%20%20%20%20%20%20%20%29.addTo%28map_4959025293974305a5c6f8fc935e2a36%29%3B%0A%20%20%20%20%20%20%20%20%0A%20%20%20%20%0A%0A%20%20%20%20%20%20%20%20%20%20%20%20%20%20%20%20var%20div_icon_17082298e92743e29039a72feb962835%20%3D%20L.divIcon%28%7B%0A%20%20%20%20%20%20%20%20%20%20%20%20%20%20%20%20%20%20%20%20%0A%20%20%20%20%20%20%20%20%20%20%20%20%20%20%20%20%20%20%20%20%0A%20%20%20%20%20%20%20%20%20%20%20%20%20%20%20%20%20%20%20%20%0A%20%20%20%20%20%20%20%20%20%20%20%20%20%20%20%20%20%20%20%20className%3A%20%27empty%27%2C%0A%20%20%20%20%20%20%20%20%20%20%20%20%20%20%20%20%20%20%20%20html%3A%20%60%3Cdiv%20style%3D%22color%3A%20%23BDB76B%3B%20font-size%3A%2014px%22%3E2%3C/div%3E%60%2C%0A%20%20%20%20%20%20%20%20%20%20%20%20%20%20%20%20%20%20%20%20%7D%29%3B%0A%20%20%20%20%20%20%20%20%20%20%20%20%20%20%20%20marker_dc23c767269240168d8bba2c6b2af19f.setIcon%28div_icon_17082298e92743e29039a72feb962835%29%3B%0A%20%20%20%20%20%20%20%20%20%20%20%20%0A%20%20%20%20%0A%20%20%20%20%20%20%20%20var%20marker_353b740c20f541b289c68928b2a0295e%20%3D%20L.marker%28%0A%20%20%20%20%20%20%20%20%20%20%20%20%5B46.729553%2C%20-94.6859%5D%2C%0A%20%20%20%20%20%20%20%20%20%20%20%20%7B%0A%20%20%20%20%20%20%20%20%20%20%20%20%20%20%20%20icon%3A%20new%20L.Icon.Default%28%29%2C%0A%20%20%20%20%20%20%20%20%20%20%20%20%20%20%20%20%7D%0A%20%20%20%20%20%20%20%20%20%20%20%20%29.addTo%28map_4959025293974305a5c6f8fc935e2a36%29%3B%0A%20%20%20%20%20%20%20%20%0A%20%20%20%20%0A%0A%20%20%20%20%20%20%20%20%20%20%20%20%20%20%20%20var%20div_icon_df1c6a84040a4df187e07a25fc768622%20%3D%20L.divIcon%28%7B%0A%20%20%20%20%20%20%20%20%20%20%20%20%20%20%20%20%20%20%20%20%0A%20%20%20%20%20%20%20%20%20%20%20%20%20%20%20%20%20%20%20%20%0A%20%20%20%20%20%20%20%20%20%20%20%20%20%20%20%20%20%20%20%20%0A%20%20%20%20%20%20%20%20%20%20%20%20%20%20%20%20%20%20%20%20className%3A%20%27empty%27%2C%0A%20%20%20%20%20%20%20%20%20%20%20%20%20%20%20%20%20%20%20%20html%3A%20%60%3Cdiv%20style%3D%22color%3A%20green%3B%20font-size%3A%2014px%22%3E12%3C/div%3E%60%2C%0A%20%20%20%20%20%20%20%20%20%20%20%20%20%20%20%20%20%20%20%20%7D%29%3B%0A%20%20%20%20%20%20%20%20%20%20%20%20%20%20%20%20marker_353b740c20f541b289c68928b2a0295e.setIcon%28div_icon_df1c6a84040a4df187e07a25fc768622%29%3B%0A%20%20%20%20%20%20%20%20%20%20%20%20%0A%20%20%20%20%0A%20%20%20%20%20%20%20%20var%20marker_f2c87521485341d28c81f3e7cbd88027%20%3D%20L.marker%28%0A%20%20%20%20%20%20%20%20%20%20%20%20%5B31.244823%2C%20-92.145024%5D%2C%0A%20%20%20%20%20%20%20%20%20%20%20%20%7B%0A%20%20%20%20%20%20%20%20%20%20%20%20%20%20%20%20icon%3A%20new%20L.Icon.Default%28%29%2C%0A%20%20%20%20%20%20%20%20%20%20%20%20%20%20%20%20%7D%0A%20%20%20%20%20%20%20%20%20%20%20%20%29.addTo%28map_4959025293974305a5c6f8fc935e2a36%29%3B%0A%20%20%20%20%20%20%20%20%0A%20%20%20%20%0A%0A%20%20%20%20%20%20%20%20%20%20%20%20%20%20%20%20var%20div_icon_d72d1bd0592349608074743f7a7db412%20%3D%20L.divIcon%28%7B%0A%20%20%20%20%20%20%20%20%20%20%20%20%20%20%20%20%20%20%20%20%0A%20%20%20%20%20%20%20%20%20%20%20%20%20%20%20%20%20%20%20%20%0A%20%20%20%20%20%20%20%20%20%20%20%20%20%20%20%20%20%20%20%20%0A%20%20%20%20%20%20%20%20%20%20%20%20%20%20%20%20%20%20%20%20className%3A%20%27empty%27%2C%0A%20%20%20%20%20%20%20%20%20%20%20%20%20%20%20%20%20%20%20%20html%3A%20%60%3Cdiv%20style%3D%22color%3A%20%23BDB76B%3B%20font-size%3A%2014px%22%3E-1%3C/div%3E%60%2C%0A%20%20%20%20%20%20%20%20%20%20%20%20%20%20%20%20%20%20%20%20%7D%29%3B%0A%20%20%20%20%20%20%20%20%20%20%20%20%20%20%20%20marker_f2c87521485341d28c81f3e7cbd88027.setIcon%28div_icon_d72d1bd0592349608074743f7a7db412%29%3B%0A%20%20%20%20%20%20%20%20%20%20%20%20%0A%20%20%20%20%0A%20%20%20%20%20%20%20%20var%20marker_09e4c83201b74e7a9843176d6f5901e6%20%3D%20L.marker%28%0A%20%20%20%20%20%20%20%20%20%20%20%20%5B32.318231%2C%20-86.902298%5D%2C%0A%20%20%20%20%20%20%20%20%20%20%20%20%7B%0A%20%20%20%20%20%20%20%20%20%20%20%20%20%20%20%20icon%3A%20new%20L.Icon.Default%28%29%2C%0A%20%20%20%20%20%20%20%20%20%20%20%20%20%20%20%20%7D%0A%20%20%20%20%20%20%20%20%20%20%20%20%29.addTo%28map_4959025293974305a5c6f8fc935e2a36%29%3B%0A%20%20%20%20%20%20%20%20%0A%20%20%20%20%0A%0A%20%20%20%20%20%20%20%20%20%20%20%20%20%20%20%20var%20div_icon_e65277fdcfcc42bebd7780ecb0d88ac1%20%3D%20L.divIcon%28%7B%0A%20%20%20%20%20%20%20%20%20%20%20%20%20%20%20%20%20%20%20%20%0A%20%20%20%20%20%20%20%20%20%20%20%20%20%20%20%20%20%20%20%20%0A%20%20%20%20%20%20%20%20%20%20%20%20%20%20%20%20%20%20%20%20%0A%20%20%20%20%20%20%20%20%20%20%20%20%20%20%20%20%20%20%20%20className%3A%20%27empty%27%2C%0A%20%20%20%20%20%20%20%20%20%20%20%20%20%20%20%20%20%20%20%20html%3A%20%60%3Cdiv%20style%3D%22color%3A%20green%3B%20font-size%3A%2014px%22%3E3%3C/div%3E%60%2C%0A%20%20%20%20%20%20%20%20%20%20%20%20%20%20%20%20%20%20%20%20%7D%29%3B%0A%20%20%20%20%20%20%20%20%20%20%20%20%20%20%20%20marker_09e4c83201b74e7a9843176d6f5901e6.setIcon%28div_icon_e65277fdcfcc42bebd7780ecb0d88ac1%29%3B%0A%20%20%20%20%20%20%20%20%20%20%20%20%0A%20%20%20%20%0A%20%20%20%20%20%20%20%20var%20marker_770eb71909e3497ab8e67c6d9966b84a%20%3D%20L.marker%28%0A%20%20%20%20%20%20%20%20%20%20%20%20%5B38.905985%2C%20-77.033418%5D%2C%0A%20%20%20%20%20%20%20%20%20%20%20%20%7B%0A%20%20%20%20%20%20%20%20%20%20%20%20%20%20%20%20icon%3A%20new%20L.Icon.Default%28%29%2C%0A%20%20%20%20%20%20%20%20%20%20%20%20%20%20%20%20%7D%0A%20%20%20%20%20%20%20%20%20%20%20%20%29.addTo%28map_4959025293974305a5c6f8fc935e2a36%29%3B%0A%20%20%20%20%20%20%20%20%0A%20%20%20%20%0A%0A%20%20%20%20%20%20%20%20%20%20%20%20%20%20%20%20var%20div_icon_30cfa6c4cf944b348f673e2bcfec9a9f%20%3D%20L.divIcon%28%7B%0A%20%20%20%20%20%20%20%20%20%20%20%20%20%20%20%20%20%20%20%20%0A%20%20%20%20%20%20%20%20%20%20%20%20%20%20%20%20%20%20%20%20%0A%20%20%20%20%20%20%20%20%20%20%20%20%20%20%20%20%20%20%20%20%0A%20%20%20%20%20%20%20%20%20%20%20%20%20%20%20%20%20%20%20%20className%3A%20%27empty%27%2C%0A%20%20%20%20%20%20%20%20%20%20%20%20%20%20%20%20%20%20%20%20html%3A%20%60%3Cdiv%20style%3D%22color%3A%20green%3B%20font-size%3A%2014px%22%3E4%3C/div%3E%60%2C%0A%20%20%20%20%20%20%20%20%20%20%20%20%20%20%20%20%20%20%20%20%7D%29%3B%0A%20%20%20%20%20%20%20%20%20%20%20%20%20%20%20%20marker_770eb71909e3497ab8e67c6d9966b84a.setIcon%28div_icon_30cfa6c4cf944b348f673e2bcfec9a9f%29%3B%0A%20%20%20%20%20%20%20%20%20%20%20%20%0A%20%20%20%20%0A%20%20%20%20%20%20%20%20var%20marker_bc58359583f8456e8984ca4fc49774d1%20%3D%20L.marker%28%0A%20%20%20%20%20%20%20%20%20%20%20%20%5B43.78444%2C%20-88.787868%5D%2C%0A%20%20%20%20%20%20%20%20%20%20%20%20%7B%0A%20%20%20%20%20%20%20%20%20%20%20%20%20%20%20%20icon%3A%20new%20L.Icon.Default%28%29%2C%0A%20%20%20%20%20%20%20%20%20%20%20%20%20%20%20%20%7D%0A%20%20%20%20%20%20%20%20%20%20%20%20%29.addTo%28map_4959025293974305a5c6f8fc935e2a36%29%3B%0A%20%20%20%20%20%20%20%20%0A%20%20%20%20%0A%0A%20%20%20%20%20%20%20%20%20%20%20%20%20%20%20%20var%20div_icon_e30dab3e90c24327a596eea3889b0264%20%3D%20L.divIcon%28%7B%0A%20%20%20%20%20%20%20%20%20%20%20%20%20%20%20%20%20%20%20%20%0A%20%20%20%20%20%20%20%20%20%20%20%20%20%20%20%20%20%20%20%20%0A%20%20%20%20%20%20%20%20%20%20%20%20%20%20%20%20%20%20%20%20%0A%20%20%20%20%20%20%20%20%20%20%20%20%20%20%20%20%20%20%20%20className%3A%20%27empty%27%2C%0A%20%20%20%20%20%20%20%20%20%20%20%20%20%20%20%20%20%20%20%20html%3A%20%60%3Cdiv%20style%3D%22color%3A%20green%3B%20font-size%3A%2014px%22%3E3%3C/div%3E%60%2C%0A%20%20%20%20%20%20%20%20%20%20%20%20%20%20%20%20%20%20%20%20%7D%29%3B%0A%20%20%20%20%20%20%20%20%20%20%20%20%20%20%20%20marker_bc58359583f8456e8984ca4fc49774d1.setIcon%28div_icon_e30dab3e90c24327a596eea3889b0264%29%3B%0A%20%20%20%20%20%20%20%20%20%20%20%20%0A%20%20%20%20%0A%20%20%20%20%20%20%20%20var%20marker_60e96e7752854a4ba36c35900b2e96c8%20%3D%20L.marker%28%0A%20%20%20%20%20%20%20%20%20%20%20%20%5B41.492537%2C%20-99.901813%5D%2C%0A%20%20%20%20%20%20%20%20%20%20%20%20%7B%0A%20%20%20%20%20%20%20%20%20%20%20%20%20%20%20%20icon%3A%20new%20L.Icon.Default%28%29%2C%0A%20%20%20%20%20%20%20%20%20%20%20%20%20%20%20%20%7D%0A%20%20%20%20%20%20%20%20%20%20%20%20%29.addTo%28map_4959025293974305a5c6f8fc935e2a36%29%3B%0A%20%20%20%20%20%20%20%20%0A%20%20%20%20%0A%0A%20%20%20%20%20%20%20%20%20%20%20%20%20%20%20%20var%20div_icon_b6fdee5bcb6c4d2385c13db76252f0b4%20%3D%20L.divIcon%28%7B%0A%20%20%20%20%20%20%20%20%20%20%20%20%20%20%20%20%20%20%20%20%0A%20%20%20%20%20%20%20%20%20%20%20%20%20%20%20%20%20%20%20%20%0A%20%20%20%20%20%20%20%20%20%20%20%20%20%20%20%20%20%20%20%20%0A%20%20%20%20%20%20%20%20%20%20%20%20%20%20%20%20%20%20%20%20className%3A%20%27empty%27%2C%0A%20%20%20%20%20%20%20%20%20%20%20%20%20%20%20%20%20%20%20%20html%3A%20%60%3Cdiv%20style%3D%22color%3A%20green%3B%20font-size%3A%2014px%22%3E3%3C/div%3E%60%2C%0A%20%20%20%20%20%20%20%20%20%20%20%20%20%20%20%20%20%20%20%20%7D%29%3B%0A%20%20%20%20%20%20%20%20%20%20%20%20%20%20%20%20marker_60e96e7752854a4ba36c35900b2e96c8.setIcon%28div_icon_b6fdee5bcb6c4d2385c13db76252f0b4%29%3B%0A%20%20%20%20%20%20%20%20%20%20%20%20%0A%20%20%20%20%0A%20%20%20%20%20%20%20%20var%20marker_4b8a23aa33d54efa81c45d9edbf492ba%20%3D%20L.marker%28%0A%20%20%20%20%20%20%20%20%20%20%20%20%5B40.058324%2C%20-74.405661%5D%2C%0A%20%20%20%20%20%20%20%20%20%20%20%20%7B%0A%20%20%20%20%20%20%20%20%20%20%20%20%20%20%20%20icon%3A%20new%20L.Icon.Default%28%29%2C%0A%20%20%20%20%20%20%20%20%20%20%20%20%20%20%20%20%7D%0A%20%20%20%20%20%20%20%20%20%20%20%20%29.addTo%28map_4959025293974305a5c6f8fc935e2a36%29%3B%0A%20%20%20%20%20%20%20%20%0A%20%20%20%20%0A%0A%20%20%20%20%20%20%20%20%20%20%20%20%20%20%20%20var%20div_icon_3352cb185d654ddb814f3b0e12fe95a3%20%3D%20L.divIcon%28%7B%0A%20%20%20%20%20%20%20%20%20%20%20%20%20%20%20%20%20%20%20%20%0A%20%20%20%20%20%20%20%20%20%20%20%20%20%20%20%20%20%20%20%20%0A%20%20%20%20%20%20%20%20%20%20%20%20%20%20%20%20%20%20%20%20%0A%20%20%20%20%20%20%20%20%20%20%20%20%20%20%20%20%20%20%20%20className%3A%20%27empty%27%2C%0A%20%20%20%20%20%20%20%20%20%20%20%20%20%20%20%20%20%20%20%20html%3A%20%60%3Cdiv%20style%3D%22color%3A%20green%3B%20font-size%3A%2014px%22%3E6%3C/div%3E%60%2C%0A%20%20%20%20%20%20%20%20%20%20%20%20%20%20%20%20%20%20%20%20%7D%29%3B%0A%20%20%20%20%20%20%20%20%20%20%20%20%20%20%20%20marker_4b8a23aa33d54efa81c45d9edbf492ba.setIcon%28div_icon_3352cb185d654ddb814f3b0e12fe95a3%29%3B%0A%20%20%20%20%20%20%20%20%20%20%20%20%0A%20%20%20%20%0A%20%20%20%20%20%20%20%20var%20marker_ebddae03c0184297b182834036c3f735%20%3D%20L.marker%28%0A%20%20%20%20%20%20%20%20%20%20%20%20%5B34.048928%2C%20-111.093731%5D%2C%0A%20%20%20%20%20%20%20%20%20%20%20%20%7B%0A%20%20%20%20%20%20%20%20%20%20%20%20%20%20%20%20icon%3A%20new%20L.Icon.Default%28%29%2C%0A%20%20%20%20%20%20%20%20%20%20%20%20%20%20%20%20%7D%0A%20%20%20%20%20%20%20%20%20%20%20%20%29.addTo%28map_4959025293974305a5c6f8fc935e2a36%29%3B%0A%20%20%20%20%20%20%20%20%0A%20%20%20%20%0A%0A%20%20%20%20%20%20%20%20%20%20%20%20%20%20%20%20var%20div_icon_b2442aecdb564a5382de083b2102fd8f%20%3D%20L.divIcon%28%7B%0A%20%20%20%20%20%20%20%20%20%20%20%20%20%20%20%20%20%20%20%20%0A%20%20%20%20%20%20%20%20%20%20%20%20%20%20%20%20%20%20%20%20%0A%20%20%20%20%20%20%20%20%20%20%20%20%20%20%20%20%20%20%20%20%0A%20%20%20%20%20%20%20%20%20%20%20%20%20%20%20%20%20%20%20%20className%3A%20%27empty%27%2C%0A%20%20%20%20%20%20%20%20%20%20%20%20%20%20%20%20%20%20%20%20html%3A%20%60%3Cdiv%20style%3D%22color%3A%20%23BDB76B%3B%20font-size%3A%2014px%22%3E0%3C/div%3E%60%2C%0A%20%20%20%20%20%20%20%20%20%20%20%20%20%20%20%20%20%20%20%20%7D%29%3B%0A%20%20%20%20%20%20%20%20%20%20%20%20%20%20%20%20marker_ebddae03c0184297b182834036c3f735.setIcon%28div_icon_b2442aecdb564a5382de083b2102fd8f%29%3B%0A%20%20%20%20%20%20%20%20%20%20%20%20%0A%20%20%20%20%0A%20%20%20%20%20%20%20%20var%20marker_f9a3e77b218c4b9aac03d97ddcff61e4%20%3D%20L.marker%28%0A%20%20%20%20%20%20%20%20%20%20%20%20%5B43.193852%2C%20-71.572395%5D%2C%0A%20%20%20%20%20%20%20%20%20%20%20%20%7B%0A%20%20%20%20%20%20%20%20%20%20%20%20%20%20%20%20icon%3A%20new%20L.Icon.Default%28%29%2C%0A%20%20%20%20%20%20%20%20%20%20%20%20%20%20%20%20%7D%0A%20%20%20%20%20%20%20%20%20%20%20%20%29.addTo%28map_4959025293974305a5c6f8fc935e2a36%29%3B%0A%20%20%20%20%20%20%20%20%0A%20%20%20%20%0A%0A%20%20%20%20%20%20%20%20%20%20%20%20%20%20%20%20var%20div_icon_4fce3ab556fc45dd84e2d2a67966ec8f%20%3D%20L.divIcon%28%7B%0A%20%20%20%20%20%20%20%20%20%20%20%20%20%20%20%20%20%20%20%20%0A%20%20%20%20%20%20%20%20%20%20%20%20%20%20%20%20%20%20%20%20%0A%20%20%20%20%20%20%20%20%20%20%20%20%20%20%20%20%20%20%20%20%0A%20%20%20%20%20%20%20%20%20%20%20%20%20%20%20%20%20%20%20%20className%3A%20%27empty%27%2C%0A%20%20%20%20%20%20%20%20%20%20%20%20%20%20%20%20%20%20%20%20html%3A%20%60%3Cdiv%20style%3D%22color%3A%20%23BDB76B%3B%20font-size%3A%2014px%22%3E2%3C/div%3E%60%2C%0A%20%20%20%20%20%20%20%20%20%20%20%20%20%20%20%20%20%20%20%20%7D%29%3B%0A%20%20%20%20%20%20%20%20%20%20%20%20%20%20%20%20marker_f9a3e77b218c4b9aac03d97ddcff61e4.setIcon%28div_icon_4fce3ab556fc45dd84e2d2a67966ec8f%29%3B%0A%20%20%20%20%20%20%20%20%20%20%20%20%0A%20%20%20%20%0A%20%20%20%20%20%20%20%20var%20marker_40eb4ac3f40a4a6d933717693fd413c4%20%3D%20L.marker%28%0A%20%20%20%20%20%20%20%20%20%20%20%20%5B35.007752%2C%20-97.092877%5D%2C%0A%20%20%20%20%20%20%20%20%20%20%20%20%7B%0A%20%20%20%20%20%20%20%20%20%20%20%20%20%20%20%20icon%3A%20new%20L.Icon.Default%28%29%2C%0A%20%20%20%20%20%20%20%20%20%20%20%20%20%20%20%20%7D%0A%20%20%20%20%20%20%20%20%20%20%20%20%29.addTo%28map_4959025293974305a5c6f8fc935e2a36%29%3B%0A%20%20%20%20%20%20%20%20%0A%20%20%20%20%0A%0A%20%20%20%20%20%20%20%20%20%20%20%20%20%20%20%20var%20div_icon_ad37f5118a8d47758215dfefdc897547%20%3D%20L.divIcon%28%7B%0A%20%20%20%20%20%20%20%20%20%20%20%20%20%20%20%20%20%20%20%20%0A%20%20%20%20%20%20%20%20%20%20%20%20%20%20%20%20%20%20%20%20%0A%20%20%20%20%20%20%20%20%20%20%20%20%20%20%20%20%20%20%20%20%0A%20%20%20%20%20%20%20%20%20%20%20%20%20%20%20%20%20%20%20%20className%3A%20%27empty%27%2C%0A%20%20%20%20%20%20%20%20%20%20%20%20%20%20%20%20%20%20%20%20html%3A%20%60%3Cdiv%20style%3D%22color%3A%20%23BDB76B%3B%20font-size%3A%2014px%22%3E1%3C/div%3E%60%2C%0A%20%20%20%20%20%20%20%20%20%20%20%20%20%20%20%20%20%20%20%20%7D%29%3B%0A%20%20%20%20%20%20%20%20%20%20%20%20%20%20%20%20marker_40eb4ac3f40a4a6d933717693fd413c4.setIcon%28div_icon_ad37f5118a8d47758215dfefdc897547%29%3B%0A%20%20%20%20%20%20%20%20%20%20%20%20%0A%20%20%20%20%0A%20%20%20%20%20%20%20%20var%20marker_4e88eaffd99a4451a178d010023d0a2c%20%3D%20L.marker%28%0A%20%20%20%20%20%20%20%20%20%20%20%20%5B41.878003%2C%20-93.097702%5D%2C%0A%20%20%20%20%20%20%20%20%20%20%20%20%7B%0A%20%20%20%20%20%20%20%20%20%20%20%20%20%20%20%20icon%3A%20new%20L.Icon.Default%28%29%2C%0A%20%20%20%20%20%20%20%20%20%20%20%20%20%20%20%20%7D%0A%20%20%20%20%20%20%20%20%20%20%20%20%29.addTo%28map_4959025293974305a5c6f8fc935e2a36%29%3B%0A%20%20%20%20%20%20%20%20%0A%20%20%20%20%0A%0A%20%20%20%20%20%20%20%20%20%20%20%20%20%20%20%20var%20div_icon_64811f8ab28c48109ec502149d9c87e0%20%3D%20L.divIcon%28%7B%0A%20%20%20%20%20%20%20%20%20%20%20%20%20%20%20%20%20%20%20%20%0A%20%20%20%20%20%20%20%20%20%20%20%20%20%20%20%20%20%20%20%20%0A%20%20%20%20%20%20%20%20%20%20%20%20%20%20%20%20%20%20%20%20%0A%20%20%20%20%20%20%20%20%20%20%20%20%20%20%20%20%20%20%20%20className%3A%20%27empty%27%2C%0A%20%20%20%20%20%20%20%20%20%20%20%20%20%20%20%20%20%20%20%20html%3A%20%60%3Cdiv%20style%3D%22color%3A%20%23BDB76B%3B%20font-size%3A%2014px%22%3E1%3C/div%3E%60%2C%0A%20%20%20%20%20%20%20%20%20%20%20%20%20%20%20%20%20%20%20%20%7D%29%3B%0A%20%20%20%20%20%20%20%20%20%20%20%20%20%20%20%20marker_4e88eaffd99a4451a178d010023d0a2c.setIcon%28div_icon_64811f8ab28c48109ec502149d9c87e0%29%3B%0A%20%20%20%20%20%20%20%20%20%20%20%20%0A%20%20%20%20%0A%20%20%20%20%20%20%20%20var%20marker_40b45f872fe2419f95d6c3dee134710d%20%3D%20L.marker%28%0A%20%20%20%20%20%20%20%20%20%20%20%20%5B40.551217%2C%20-85.602364%5D%2C%0A%20%20%20%20%20%20%20%20%20%20%20%20%7B%0A%20%20%20%20%20%20%20%20%20%20%20%20%20%20%20%20icon%3A%20new%20L.Icon.Default%28%29%2C%0A%20%20%20%20%20%20%20%20%20%20%20%20%20%20%20%20%7D%0A%20%20%20%20%20%20%20%20%20%20%20%20%29.addTo%28map_4959025293974305a5c6f8fc935e2a36%29%3B%0A%20%20%20%20%20%20%20%20%0A%20%20%20%20%0A%0A%20%20%20%20%20%20%20%20%20%20%20%20%20%20%20%20var%20div_icon_f63825a38f834b05a5e068df0295727c%20%3D%20L.divIcon%28%7B%0A%20%20%20%20%20%20%20%20%20%20%20%20%20%20%20%20%20%20%20%20%0A%20%20%20%20%20%20%20%20%20%20%20%20%20%20%20%20%20%20%20%20%0A%20%20%20%20%20%20%20%20%20%20%20%20%20%20%20%20%20%20%20%20%0A%20%20%20%20%20%20%20%20%20%20%20%20%20%20%20%20%20%20%20%20className%3A%20%27empty%27%2C%0A%20%20%20%20%20%20%20%20%20%20%20%20%20%20%20%20%20%20%20%20html%3A%20%60%3Cdiv%20style%3D%22color%3A%20%23BDB76B%3B%20font-size%3A%2014px%22%3E1%3C/div%3E%60%2C%0A%20%20%20%20%20%20%20%20%20%20%20%20%20%20%20%20%20%20%20%20%7D%29%3B%0A%20%20%20%20%20%20%20%20%20%20%20%20%20%20%20%20marker_40b45f872fe2419f95d6c3dee134710d.setIcon%28div_icon_f63825a38f834b05a5e068df0295727c%29%3B%0A%20%20%20%20%20%20%20%20%20%20%20%20%0A%20%20%20%20%0A%20%20%20%20%20%20%20%20var%20marker_cc388dfb46b6448cb22bdaff14937bfb%20%3D%20L.marker%28%0A%20%20%20%20%20%20%20%20%20%20%20%20%5B35.517491%2C%20-86.580447%5D%2C%0A%20%20%20%20%20%20%20%20%20%20%20%20%7B%0A%20%20%20%20%20%20%20%20%20%20%20%20%20%20%20%20icon%3A%20new%20L.Icon.Default%28%29%2C%0A%20%20%20%20%20%20%20%20%20%20%20%20%20%20%20%20%7D%0A%20%20%20%20%20%20%20%20%20%20%20%20%29.addTo%28map_4959025293974305a5c6f8fc935e2a36%29%3B%0A%20%20%20%20%20%20%20%20%0A%20%20%20%20%0A%0A%20%20%20%20%20%20%20%20%20%20%20%20%20%20%20%20var%20div_icon_10398c4611094b2dadb882e9c4cc8737%20%3D%20L.divIcon%28%7B%0A%20%20%20%20%20%20%20%20%20%20%20%20%20%20%20%20%20%20%20%20%0A%20%20%20%20%20%20%20%20%20%20%20%20%20%20%20%20%20%20%20%20%0A%20%20%20%20%20%20%20%20%20%20%20%20%20%20%20%20%20%20%20%20%0A%20%20%20%20%20%20%20%20%20%20%20%20%20%20%20%20%20%20%20%20className%3A%20%27empty%27%2C%0A%20%20%20%20%20%20%20%20%20%20%20%20%20%20%20%20%20%20%20%20html%3A%20%60%3Cdiv%20style%3D%22color%3A%20%23BDB76B%3B%20font-size%3A%2014px%22%3E0%3C/div%3E%60%2C%0A%20%20%20%20%20%20%20%20%20%20%20%20%20%20%20%20%20%20%20%20%7D%29%3B%0A%20%20%20%20%20%20%20%20%20%20%20%20%20%20%20%20marker_cc388dfb46b6448cb22bdaff14937bfb.setIcon%28div_icon_10398c4611094b2dadb882e9c4cc8737%29%3B%0A%20%20%20%20%20%20%20%20%20%20%20%20%0A%20%20%20%20%0A%20%20%20%20%20%20%20%20var%20marker_c04a4534cf544e719da651d4cb626a67%20%3D%20L.marker%28%0A%20%20%20%20%20%20%20%20%20%20%20%20%5B33.836081%2C%20-81.163725%5D%2C%0A%20%20%20%20%20%20%20%20%20%20%20%20%7B%0A%20%20%20%20%20%20%20%20%20%20%20%20%20%20%20%20icon%3A%20new%20L.Icon.Default%28%29%2C%0A%20%20%20%20%20%20%20%20%20%20%20%20%20%20%20%20%7D%0A%20%20%20%20%20%20%20%20%20%20%20%20%29.addTo%28map_4959025293974305a5c6f8fc935e2a36%29%3B%0A%20%20%20%20%20%20%20%20%0A%20%20%20%20%0A%0A%20%20%20%20%20%20%20%20%20%20%20%20%20%20%20%20var%20div_icon_39375363323749509fdff8a70389a783%20%3D%20L.divIcon%28%7B%0A%20%20%20%20%20%20%20%20%20%20%20%20%20%20%20%20%20%20%20%20%0A%20%20%20%20%20%20%20%20%20%20%20%20%20%20%20%20%20%20%20%20%0A%20%20%20%20%20%20%20%20%20%20%20%20%20%20%20%20%20%20%20%20%0A%20%20%20%20%20%20%20%20%20%20%20%20%20%20%20%20%20%20%20%20className%3A%20%27empty%27%2C%0A%20%20%20%20%20%20%20%20%20%20%20%20%20%20%20%20%20%20%20%20html%3A%20%60%3Cdiv%20style%3D%22color%3A%20green%3B%20font-size%3A%2014px%22%3E5%3C/div%3E%60%2C%0A%20%20%20%20%20%20%20%20%20%20%20%20%20%20%20%20%20%20%20%20%7D%29%3B%0A%20%20%20%20%20%20%20%20%20%20%20%20%20%20%20%20marker_c04a4534cf544e719da651d4cb626a67.setIcon%28div_icon_39375363323749509fdff8a70389a783%29%3B%0A%20%20%20%20%20%20%20%20%20%20%20%20%0A%20%20%20%20%0A%20%20%20%20%20%20%20%20var%20marker_4b03b8b84fb24c0f93eb580cbfb39f74%20%3D%20L.marker%28%0A%20%20%20%20%20%20%20%20%20%20%20%20%5B34.97273%2C%20-105.032363%5D%2C%0A%20%20%20%20%20%20%20%20%20%20%20%20%7B%0A%20%20%20%20%20%20%20%20%20%20%20%20%20%20%20%20icon%3A%20new%20L.Icon.Default%28%29%2C%0A%20%20%20%20%20%20%20%20%20%20%20%20%20%20%20%20%7D%0A%20%20%20%20%20%20%20%20%20%20%20%20%29.addTo%28map_4959025293974305a5c6f8fc935e2a36%29%3B%0A%20%20%20%20%20%20%20%20%0A%20%20%20%20%0A%0A%20%20%20%20%20%20%20%20%20%20%20%20%20%20%20%20var%20div_icon_4e68bc4326c3479aaaaffb5ba0ccb8db%20%3D%20L.divIcon%28%7B%0A%20%20%20%20%20%20%20%20%20%20%20%20%20%20%20%20%20%20%20%20%0A%20%20%20%20%20%20%20%20%20%20%20%20%20%20%20%20%20%20%20%20%0A%20%20%20%20%20%20%20%20%20%20%20%20%20%20%20%20%20%20%20%20%0A%20%20%20%20%20%20%20%20%20%20%20%20%20%20%20%20%20%20%20%20className%3A%20%27empty%27%2C%0A%20%20%20%20%20%20%20%20%20%20%20%20%20%20%20%20%20%20%20%20html%3A%20%60%3Cdiv%20style%3D%22color%3A%20%23BDB76B%3B%20font-size%3A%2014px%22%3E-1%3C/div%3E%60%2C%0A%20%20%20%20%20%20%20%20%20%20%20%20%20%20%20%20%20%20%20%20%7D%29%3B%0A%20%20%20%20%20%20%20%20%20%20%20%20%20%20%20%20marker_4b03b8b84fb24c0f93eb580cbfb39f74.setIcon%28div_icon_4e68bc4326c3479aaaaffb5ba0ccb8db%29%3B%0A%20%20%20%20%20%20%20%20%20%20%20%20%0A%20%20%20%20%0A%20%20%20%20%20%20%20%20var%20marker_29005ed11ca54f329be73f14342f6f5c%20%3D%20L.marker%28%0A%20%20%20%20%20%20%20%20%20%20%20%20%5B43.804133%2C%20-120.554201%5D%2C%0A%20%20%20%20%20%20%20%20%20%20%20%20%7B%0A%20%20%20%20%20%20%20%20%20%20%20%20%20%20%20%20icon%3A%20new%20L.Icon.Default%28%29%2C%0A%20%20%20%20%20%20%20%20%20%20%20%20%20%20%20%20%7D%0A%20%20%20%20%20%20%20%20%20%20%20%20%29.addTo%28map_4959025293974305a5c6f8fc935e2a36%29%3B%0A%20%20%20%20%20%20%20%20%0A%20%20%20%20%0A%0A%20%20%20%20%20%20%20%20%20%20%20%20%20%20%20%20var%20div_icon_1246dfae75604e2ca66d12a75df36725%20%3D%20L.divIcon%28%7B%0A%20%20%20%20%20%20%20%20%20%20%20%20%20%20%20%20%20%20%20%20%0A%20%20%20%20%20%20%20%20%20%20%20%20%20%20%20%20%20%20%20%20%0A%20%20%20%20%20%20%20%20%20%20%20%20%20%20%20%20%20%20%20%20%0A%20%20%20%20%20%20%20%20%20%20%20%20%20%20%20%20%20%20%20%20className%3A%20%27empty%27%2C%0A%20%20%20%20%20%20%20%20%20%20%20%20%20%20%20%20%20%20%20%20html%3A%20%60%3Cdiv%20style%3D%22color%3A%20%23BDB76B%3B%20font-size%3A%2014px%22%3E0%3C/div%3E%60%2C%0A%20%20%20%20%20%20%20%20%20%20%20%20%20%20%20%20%20%20%20%20%7D%29%3B%0A%20%20%20%20%20%20%20%20%20%20%20%20%20%20%20%20marker_29005ed11ca54f329be73f14342f6f5c.setIcon%28div_icon_1246dfae75604e2ca66d12a75df36725%29%3B%0A%20%20%20%20%20%20%20%20%20%20%20%20%0A%20%20%20%20%0A%20%20%20%20%20%20%20%20var%20marker_fba8ef8cb84f4d78b2a2b6f0d209726a%20%3D%20L.marker%28%0A%20%20%20%20%20%20%20%20%20%20%20%20%5B38.910832%2C%20-75.52767%5D%2C%0A%20%20%20%20%20%20%20%20%20%20%20%20%7B%0A%20%20%20%20%20%20%20%20%20%20%20%20%20%20%20%20icon%3A%20new%20L.Icon.Default%28%29%2C%0A%20%20%20%20%20%20%20%20%20%20%20%20%20%20%20%20%7D%0A%20%20%20%20%20%20%20%20%20%20%20%20%29.addTo%28map_4959025293974305a5c6f8fc935e2a36%29%3B%0A%20%20%20%20%20%20%20%20%0A%20%20%20%20%0A%0A%20%20%20%20%20%20%20%20%20%20%20%20%20%20%20%20var%20div_icon_a971fb1633184eaba945554c7e6bd8d5%20%3D%20L.divIcon%28%7B%0A%20%20%20%20%20%20%20%20%20%20%20%20%20%20%20%20%20%20%20%20%0A%20%20%20%20%20%20%20%20%20%20%20%20%20%20%20%20%20%20%20%20%0A%20%20%20%20%20%20%20%20%20%20%20%20%20%20%20%20%20%20%20%20%0A%20%20%20%20%20%20%20%20%20%20%20%20%20%20%20%20%20%20%20%20className%3A%20%27empty%27%2C%0A%20%20%20%20%20%20%20%20%20%20%20%20%20%20%20%20%20%20%20%20html%3A%20%60%3Cdiv%20style%3D%22color%3A%20%23BDB76B%3B%20font-size%3A%2014px%22%3E0%3C/div%3E%60%2C%0A%20%20%20%20%20%20%20%20%20%20%20%20%20%20%20%20%20%20%20%20%7D%29%3B%0A%20%20%20%20%20%20%20%20%20%20%20%20%20%20%20%20marker_fba8ef8cb84f4d78b2a2b6f0d209726a.setIcon%28div_icon_a971fb1633184eaba945554c7e6bd8d5%29%3B%0A%20%20%20%20%20%20%20%20%20%20%20%20%0A%20%20%20%20%0A%20%20%20%20%20%20%20%20var%20marker_ccf526f5933c41da96a549076d4c6696%20%3D%20L.marker%28%0A%20%20%20%20%20%20%20%20%20%20%20%20%5B39.045755%2C%20-76.641271%5D%2C%0A%20%20%20%20%20%20%20%20%20%20%20%20%7B%0A%20%20%20%20%20%20%20%20%20%20%20%20%20%20%20%20icon%3A%20new%20L.Icon.Default%28%29%2C%0A%20%20%20%20%20%20%20%20%20%20%20%20%20%20%20%20%7D%0A%20%20%20%20%20%20%20%20%20%20%20%20%29.addTo%28map_4959025293974305a5c6f8fc935e2a36%29%3B%0A%20%20%20%20%20%20%20%20%0A%20%20%20%20%0A%0A%20%20%20%20%20%20%20%20%20%20%20%20%20%20%20%20var%20div_icon_648990e86b514113b23c19c1c51d6c49%20%3D%20L.divIcon%28%7B%0A%20%20%20%20%20%20%20%20%20%20%20%20%20%20%20%20%20%20%20%20%0A%20%20%20%20%20%20%20%20%20%20%20%20%20%20%20%20%20%20%20%20%0A%20%20%20%20%20%20%20%20%20%20%20%20%20%20%20%20%20%20%20%20%0A%20%20%20%20%20%20%20%20%20%20%20%20%20%20%20%20%20%20%20%20className%3A%20%27empty%27%2C%0A%20%20%20%20%20%20%20%20%20%20%20%20%20%20%20%20%20%20%20%20html%3A%20%60%3Cdiv%20style%3D%22color%3A%20%23BDB76B%3B%20font-size%3A%2014px%22%3E1%3C/div%3E%60%2C%0A%20%20%20%20%20%20%20%20%20%20%20%20%20%20%20%20%20%20%20%20%7D%29%3B%0A%20%20%20%20%20%20%20%20%20%20%20%20%20%20%20%20marker_ccf526f5933c41da96a549076d4c6696.setIcon%28div_icon_648990e86b514113b23c19c1c51d6c49%29%3B%0A%20%20%20%20%20%20%20%20%20%20%20%20%0A%20%20%20%20%0A%20%20%20%20%20%20%20%20var%20marker_325af075cc4b425eb66814e47c38147a%20%3D%20L.marker%28%0A%20%20%20%20%20%20%20%20%20%20%20%20%5B39.011902%2C%20-98.484246%5D%2C%0A%20%20%20%20%20%20%20%20%20%20%20%20%7B%0A%20%20%20%20%20%20%20%20%20%20%20%20%20%20%20%20icon%3A%20new%20L.Icon.Default%28%29%2C%0A%20%20%20%20%20%20%20%20%20%20%20%20%20%20%20%20%7D%0A%20%20%20%20%20%20%20%20%20%20%20%20%29.addTo%28map_4959025293974305a5c6f8fc935e2a36%29%3B%0A%20%20%20%20%20%20%20%20%0A%20%20%20%20%0A%0A%20%20%20%20%20%20%20%20%20%20%20%20%20%20%20%20var%20div_icon_87ce7dbc9be04d51bf8f428190bd5bfd%20%3D%20L.divIcon%28%7B%0A%20%20%20%20%20%20%20%20%20%20%20%20%20%20%20%20%20%20%20%20%0A%20%20%20%20%20%20%20%20%20%20%20%20%20%20%20%20%20%20%20%20%0A%20%20%20%20%20%20%20%20%20%20%20%20%20%20%20%20%20%20%20%20%0A%20%20%20%20%20%20%20%20%20%20%20%20%20%20%20%20%20%20%20%20className%3A%20%27empty%27%2C%0A%20%20%20%20%20%20%20%20%20%20%20%20%20%20%20%20%20%20%20%20html%3A%20%60%3Cdiv%20style%3D%22color%3A%20%23BDB76B%3B%20font-size%3A%2014px%22%3E2%3C/div%3E%60%2C%0A%20%20%20%20%20%20%20%20%20%20%20%20%20%20%20%20%20%20%20%20%7D%29%3B%0A%20%20%20%20%20%20%20%20%20%20%20%20%20%20%20%20marker_325af075cc4b425eb66814e47c38147a.setIcon%28div_icon_87ce7dbc9be04d51bf8f428190bd5bfd%29%3B%0A%20%20%20%20%20%20%20%20%20%20%20%20%0A%20%20%20%20%0A%20%20%20%20%20%20%20%20var%20marker_3cf6de7c45b84b0b8b020d48f0323ca5%20%3D%20L.marker%28%0A%20%20%20%20%20%20%20%20%20%20%20%20%5B37.839333%2C%20-84.270018%5D%2C%0A%20%20%20%20%20%20%20%20%20%20%20%20%7B%0A%20%20%20%20%20%20%20%20%20%20%20%20%20%20%20%20icon%3A%20new%20L.Icon.Default%28%29%2C%0A%20%20%20%20%20%20%20%20%20%20%20%20%20%20%20%20%7D%0A%20%20%20%20%20%20%20%20%20%20%20%20%29.addTo%28map_4959025293974305a5c6f8fc935e2a36%29%3B%0A%20%20%20%20%20%20%20%20%0A%20%20%20%20%0A%0A%20%20%20%20%20%20%20%20%20%20%20%20%20%20%20%20var%20div_icon_f2cb587a142e4f22ada13bbf75cb04c7%20%3D%20L.divIcon%28%7B%0A%20%20%20%20%20%20%20%20%20%20%20%20%20%20%20%20%20%20%20%20%0A%20%20%20%20%20%20%20%20%20%20%20%20%20%20%20%20%20%20%20%20%0A%20%20%20%20%20%20%20%20%20%20%20%20%20%20%20%20%20%20%20%20%0A%20%20%20%20%20%20%20%20%20%20%20%20%20%20%20%20%20%20%20%20className%3A%20%27empty%27%2C%0A%20%20%20%20%20%20%20%20%20%20%20%20%20%20%20%20%20%20%20%20html%3A%20%60%3Cdiv%20style%3D%22color%3A%20green%3B%20font-size%3A%2014px%22%3E3%3C/div%3E%60%2C%0A%20%20%20%20%20%20%20%20%20%20%20%20%20%20%20%20%20%20%20%20%7D%29%3B%0A%20%20%20%20%20%20%20%20%20%20%20%20%20%20%20%20marker_3cf6de7c45b84b0b8b020d48f0323ca5.setIcon%28div_icon_f2cb587a142e4f22ada13bbf75cb04c7%29%3B%0A%20%20%20%20%20%20%20%20%20%20%20%20%0A%3C/script%3E onload=\"this.contentDocument.open();this.contentDocument.write(    decodeURIComponent(this.getAttribute('data-html')));this.contentDocument.close();\" allowfullscreen webkitallowfullscreen mozallowfullscreen></iframe></div></div>"
            ],
            "text/plain": [
              "<folium.folium.Map at 0x7f8c9af9b4d0>"
            ]
          },
          "metadata": {
            "tags": []
          },
          "execution_count": 38
        }
      ]
    },
    {
      "cell_type": "markdown",
      "metadata": {
        "id": "d7YKlJ7bWV-3"
      },
      "source": [
        "# CONCLUSIÓN: 5 ESTADOS MÁS FELICES\n",
        "\n"
      ]
    },
    {
      "cell_type": "code",
      "metadata": {
        "id": "30Ei2_esWqnF",
        "colab": {
          "base_uri": "https://localhost:8080/"
        },
        "outputId": "f838ba1f-423f-47e1-9a70-b50013e8affb"
      },
      "source": [
        "import operator\n",
        "\n",
        "result = []\n",
        "for s in sorted(countryHappinness.items(), key=lambda k_v: k_v[1]['happiness']):\n",
        "  result.append(s)\n",
        "result[len(result) - 5:len(result)]"
      ],
      "execution_count": 40,
      "outputs": [
        {
          "output_type": "execute_result",
          "data": {
            "text/plain": [
              "[('NJ',\n",
              "  {'happiness': 6,\n",
              "   'latitude': '40.058324',\n",
              "   'longitude': '-74.405661',\n",
              "   'name': 'New Jersey'}),\n",
              " ('CA',\n",
              "  {'happiness': 8,\n",
              "   'latitude': '36.778261',\n",
              "   'longitude': '-119.417932',\n",
              "   'name': 'California'}),\n",
              " ('PA',\n",
              "  {'happiness': 10,\n",
              "   'latitude': '41.203322',\n",
              "   'longitude': '-77.194525',\n",
              "   'name': 'Pennsylvania'}),\n",
              " ('CT',\n",
              "  {'happiness': 11,\n",
              "   'latitude': '41.603221',\n",
              "   'longitude': '-73.087749',\n",
              "   'name': 'Connecticut'}),\n",
              " ('MN',\n",
              "  {'happiness': 12,\n",
              "   'latitude': '46.729553',\n",
              "   'longitude': '-94.6859',\n",
              "   'name': 'Minnesota'})]"
            ]
          },
          "metadata": {
            "tags": []
          },
          "execution_count": 40
        }
      ]
    }
  ]
}