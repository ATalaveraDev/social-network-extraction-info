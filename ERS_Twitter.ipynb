{
  "nbformat": 4,
  "nbformat_minor": 0,
  "metadata": {
    "colab": {
      "name": "ERS - Twitter.ipynb",
      "provenance": [],
      "authorship_tag": "ABX9TyOC3zt8flIXA+NfHbt/b0wN",
      "include_colab_link": true
    },
    "kernelspec": {
      "name": "python3",
      "display_name": "Python 3"
    }
  },
  "cells": [
    {
      "cell_type": "markdown",
      "metadata": {
        "id": "view-in-github",
        "colab_type": "text"
      },
      "source": [
        "<a href=\"https://colab.research.google.com/github/ATalaveraDev/social-network-extraction-info/blob/main/ERS_Twitter.ipynb\" target=\"_parent\"><img src=\"https://colab.research.google.com/assets/colab-badge.svg\" alt=\"Open In Colab\"/></a>"
      ]
    },
    {
      "cell_type": "markdown",
      "metadata": {
        "id": "ssWaWXVHpvBk"
      },
      "source": [
        "Dependencies"
      ]
    },
    {
      "cell_type": "code",
      "metadata": {
        "colab": {
          "base_uri": "https://localhost:8080/"
        },
        "id": "ZKVoVjx2po4f",
        "outputId": "dd64648e-1693-4a92-e18e-edc1e5403bf9"
      },
      "source": [
        "pip install tweepy"
      ],
      "execution_count": 1,
      "outputs": [
        {
          "output_type": "stream",
          "text": [
            "Requirement already satisfied: tweepy in /usr/local/lib/python3.7/dist-packages (3.10.0)\n",
            "Requirement already satisfied: six>=1.10.0 in /usr/local/lib/python3.7/dist-packages (from tweepy) (1.15.0)\n",
            "Requirement already satisfied: requests[socks]>=2.11.1 in /usr/local/lib/python3.7/dist-packages (from tweepy) (2.23.0)\n",
            "Requirement already satisfied: requests-oauthlib>=0.7.0 in /usr/local/lib/python3.7/dist-packages (from tweepy) (1.3.0)\n",
            "Requirement already satisfied: certifi>=2017.4.17 in /usr/local/lib/python3.7/dist-packages (from requests[socks]>=2.11.1->tweepy) (2020.12.5)\n",
            "Requirement already satisfied: chardet<4,>=3.0.2 in /usr/local/lib/python3.7/dist-packages (from requests[socks]>=2.11.1->tweepy) (3.0.4)\n",
            "Requirement already satisfied: idna<3,>=2.5 in /usr/local/lib/python3.7/dist-packages (from requests[socks]>=2.11.1->tweepy) (2.10)\n",
            "Requirement already satisfied: urllib3!=1.25.0,!=1.25.1,<1.26,>=1.21.1 in /usr/local/lib/python3.7/dist-packages (from requests[socks]>=2.11.1->tweepy) (1.24.3)\n",
            "Requirement already satisfied: PySocks!=1.5.7,>=1.5.6; extra == \"socks\" in /usr/local/lib/python3.7/dist-packages (from requests[socks]>=2.11.1->tweepy) (1.7.1)\n",
            "Requirement already satisfied: oauthlib>=3.0.0 in /usr/local/lib/python3.7/dist-packages (from requests-oauthlib>=0.7.0->tweepy) (3.1.0)\n"
          ],
          "name": "stdout"
        }
      ]
    },
    {
      "cell_type": "markdown",
      "metadata": {
        "id": "swCXQap6ruXC"
      },
      "source": [
        "Obtener los Estados de Estados Unidos (solo los incorporados)"
      ]
    },
    {
      "cell_type": "code",
      "metadata": {
        "colab": {
          "base_uri": "https://localhost:8080/"
        },
        "id": "VyFNGOkSgu7b",
        "outputId": "7b324a16-2ab3-4092-a467-63dab6e32f49"
      },
      "source": [
        "import requests\n",
        "from bs4 import BeautifulSoup\n",
        "\n",
        "URL = \"https://www23.statcan.gc.ca/imdb/p3VD.pl?Function=getVD&TVD=53971\"\n",
        "page = requests.get(URL)\n",
        "soup = BeautifulSoup(page.content, 'html.parser')\n",
        "\n",
        "states = []\n",
        "for row in soup.find_all('tr'):\n",
        "  tds = row.find_all('td')\n",
        "  if (len(tds) > 0):\n",
        "    cells = [d.text for d in tds]\n",
        "    states.append({ 'name': cells[0], 'code': cells[2] })\n",
        "states"
      ],
      "execution_count": 29,
      "outputs": [
        {
          "output_type": "stream",
          "text": [
            "[{'name': 'Alabama', 'code': 'AL'}, {'name': 'Alaska', 'code': 'AK'}, {'name': 'Arizona', 'code': 'AZ'}, {'name': 'Arkansas', 'code': 'AR'}, {'name': 'California', 'code': 'CA'}, {'name': 'Colorado', 'code': 'CO'}, {'name': 'Connecticut', 'code': 'CT'}, {'name': 'Delaware', 'code': 'DE'}, {'name': 'District of Columbia', 'code': 'DC'}, {'name': 'Florida', 'code': 'FL'}, {'name': 'Georgia', 'code': 'GA'}, {'name': 'Hawaii', 'code': 'HI'}, {'name': 'Idaho', 'code': 'ID'}, {'name': 'Illinois', 'code': 'IL'}, {'name': 'Indiana', 'code': 'IN'}, {'name': 'Iowa', 'code': 'IA'}, {'name': 'Kansas', 'code': 'KS'}, {'name': 'Kentucky', 'code': 'KY'}, {'name': 'Louisiana', 'code': 'LA'}, {'name': 'Maine', 'code': 'ME'}, {'name': 'Maryland', 'code': 'MD'}, {'name': 'Massachusetts', 'code': 'MA'}, {'name': 'Michigan', 'code': 'MI'}, {'name': 'Minnesota', 'code': 'MN'}, {'name': 'Mississippi', 'code': 'MS'}, {'name': 'Missouri', 'code': 'MO'}, {'name': 'Montana', 'code': 'MT'}, {'name': 'Nebraska', 'code': 'NE'}, {'name': 'Nevada', 'code': 'NV'}, {'name': 'New Hampshire', 'code': 'NH'}, {'name': 'New Jersey', 'code': 'NJ'}, {'name': 'New Mexico', 'code': 'NM'}, {'name': 'New York', 'code': 'NY'}, {'name': 'North Carolina', 'code': 'NC'}, {'name': 'North Dakota', 'code': 'ND'}, {'name': 'Ohio', 'code': 'OH'}, {'name': 'Oklahoma', 'code': 'OK'}, {'name': 'Oregon', 'code': 'OR'}, {'name': 'Pennsylvania', 'code': 'PA'}, {'name': 'Rhode Island', 'code': 'RI'}, {'name': 'South Carolina', 'code': 'SC'}, {'name': 'South Dakota', 'code': 'SD'}, {'name': 'Tennessee', 'code': 'TN'}, {'name': 'Texas', 'code': 'TX'}, {'name': 'Utah', 'code': 'UT'}, {'name': 'Vermont', 'code': 'VT'}, {'name': 'Virginia', 'code': 'VA'}, {'name': 'Washington', 'code': 'WA'}, {'name': 'West Virginia', 'code': 'WV'}, {'name': 'Wisconsin', 'code': 'WI'}, {'name': 'Wyoming', 'code': 'WY'}]\n"
          ],
          "name": "stdout"
        }
      ]
    },
    {
      "cell_type": "markdown",
      "metadata": {
        "id": "-Hq_FYO-tI14"
      },
      "source": [
        "OAuth authentication"
      ]
    },
    {
      "cell_type": "code",
      "metadata": {
        "id": "NuHCHCl9qKZV"
      },
      "source": [
        "import tweepy\n",
        "\n",
        "auth = tweepy.OAuthHandler('GJdVKUjoEl31WLHlgIRYxVmYr', 'HVaOvQWoHIkiHZh2yPNb0YMxwR6waHagtoR4hcKURo6nhvGxwL')\n",
        "auth.set_access_token('1254452545583529991-g0sI2XhrtijaQ5zA3NNPRwCfuSKrCr', '4GLEprsRqsKlHPelKC4YirECbHTQYsJJGYiy0JN2OuRiH')\n",
        "\n",
        "api = tweepy.API(auth)"
      ],
      "execution_count": 3,
      "outputs": []
    },
    {
      "cell_type": "markdown",
      "metadata": {
        "id": "nQ4cz71Guzzl"
      },
      "source": [
        "Tweets Selection"
      ]
    },
    {
      "cell_type": "code",
      "metadata": {
        "colab": {
          "base_uri": "https://localhost:8080/"
        },
        "id": "PW55FTV5tySE",
        "outputId": "cf7eaaa5-2fe7-4614-b3ca-06e182012abf"
      },
      "source": [
        "from tweepy.streaming import StreamListener\n",
        "from tweepy import Stream\n",
        "import json\n",
        "import time\n",
        "\n",
        "class StdOutListener(StreamListener):\n",
        "    def on_data(self, data):\n",
        "      tweet = json.loads(data)\n",
        "      tweets.append({ 'text': tweet['text'], 'place': tweet['place']['full_name'] })\n",
        "      return True\n",
        "\n",
        "    def on_error(self, status):\n",
        "        print(status)\n",
        "\n",
        "tweets = []\n",
        "l = StdOutListener()\n",
        "stream = Stream(auth, l)\n",
        "stream.filter(languages=['en'], locations=[-171.791110603, 18.91619, -66.96466, 71.3577635769], is_async=True)\n",
        "time.sleep(10)\n",
        "stream.disconnect()\n"
      ],
      "execution_count": 37,
      "outputs": [
        {
          "output_type": "stream",
          "text": [
            "DONE!\n",
            "[{'text': '@barbiebayxx @NaijaEverything We from Africa it ain’t née plus I like younger girls 🌚🌚 she looks sweet', 'place': 'Georgia, USA'}, {'text': '@lonliestwolf Gooood....goooood https://t.co/QdQKaWl8xK', 'place': 'Columbus, OH'}, {'text': 'it’d be a lie to say that shit didn’t hurt my feelings.', 'place': 'Dallas, TX'}, {'text': 'I can’t complain...🤷🏾\\u200d♂️... it was all 4 the taking 🙇🏾\\u200d♂️', 'place': 'Oakland, CA'}, {'text': 'Flat Rock / Coon Creek: Running https://t.co/XnDGONy515', 'place': 'Alabama, USA'}, {'text': 'Don’t let No one get comfortable Disrespecting You!!!', 'place': 'Scio, MI'}, {'text': '@Thomas1774Paine Just like he was a Russian puppet right Eric? \\nHow’s that Russian Collusion fairytale going? Have… https://t.co/38iy7V6MgC', 'place': 'Russellton, PA'}, {'text': '@Oluomachi_u I believe in you!😭', 'place': 'Chicago, IL'}, {'text': '@iTS_MeMadiO You work at the 🏥', 'place': 'Dallas, TX'}]\n"
          ],
          "name": "stdout"
        }
      ]
    },
    {
      "cell_type": "markdown",
      "metadata": {
        "id": "o7_z-qquwSBi"
      },
      "source": [
        "Sentiment Processor"
      ]
    },
    {
      "cell_type": "code",
      "metadata": {
        "id": "Fd5bu2F_wWgn",
        "colab": {
          "base_uri": "https://localhost:8080/"
        },
        "outputId": "774bba8b-6f4d-4975-b0d1-8607b3ceb9d6"
      },
      "source": [
        "feelings = open('AFINN-111.txt', 'r')\n",
        "\n",
        "def initFeelingsDictionary():\n",
        "  dict = {}\n",
        "  for feeling in feelings:\n",
        "    feelingSplit = feeling.split('\\\\n')\n",
        "    feel = feelingSplit[0].replace('\\n', '').split('\\t')\n",
        "    dict[feel[0]] = feel[1]\n",
        "  return dict\n",
        "\n",
        "affinn = initFeelingsDictionary()\n",
        "\n",
        "testData = [{'text': '@barbiebayxx @NaijaEverything We from Africa it ain’t née plus I like younger girls 🌚🌚 she looks sweet', 'place': 'Georgia, USA'}, {'text': '@lonliestwolf Gooood....goooood https://t.co/QdQKaWl8xK', 'place': 'Columbus, OH'}, {'text': 'it’d be a lie to say that shit didn’t hurt my feelings.', 'place': 'Dallas, TX'}, {'text': 'I can’t complain...🤷🏾\\u200d♂️... it was all 4 the taking 🙇🏾\\u200d♂️', 'place': 'Oakland, CA'}, {'text': 'Flat Rock / Coon Creek: Running https://t.co/XnDGONy515', 'place': 'Alabama, USA'}, {'text': 'Don’t let No one get comfortable Disrespecting You!!!', 'place': 'Scio, MI'}, {'text': '@Thomas1774Paine Just like he was a Russian puppet right Eric? \\nHow’s that Russian Collusion fairytale going? Have… https://t.co/38iy7V6MgC', 'place': 'Russellton, PA'}, {'text': '@Oluomachi_u I believe in you!😭', 'place': 'Chicago, IL'}, {'text': '@iTS_MeMadiO You work at the 🏥', 'place': 'Dallas, TX'}]\n",
        "\n",
        "for tweet in testData:\n",
        "  for word in tweet['text'].split():\n",
        "    print(word)"
      ],
      "execution_count": 40,
      "outputs": [
        {
          "output_type": "stream",
          "text": [
            "@barbiebayxx\n",
            "@NaijaEverything\n",
            "We\n",
            "from\n",
            "Africa\n",
            "it\n",
            "ain’t\n",
            "née\n",
            "plus\n",
            "I\n",
            "like\n",
            "younger\n",
            "girls\n",
            "🌚🌚\n",
            "she\n",
            "looks\n",
            "sweet\n",
            "@lonliestwolf\n",
            "Gooood....goooood\n",
            "https://t.co/QdQKaWl8xK\n",
            "it’d\n",
            "be\n",
            "a\n",
            "lie\n",
            "to\n",
            "say\n",
            "that\n",
            "shit\n",
            "didn’t\n",
            "hurt\n",
            "my\n",
            "feelings.\n",
            "I\n",
            "can’t\n",
            "complain...🤷🏾‍♂️...\n",
            "it\n",
            "was\n",
            "all\n",
            "4\n",
            "the\n",
            "taking\n",
            "🙇🏾‍♂️\n",
            "Flat\n",
            "Rock\n",
            "/\n",
            "Coon\n",
            "Creek:\n",
            "Running\n",
            "https://t.co/XnDGONy515\n",
            "Don’t\n",
            "let\n",
            "No\n",
            "one\n",
            "get\n",
            "comfortable\n",
            "Disrespecting\n",
            "You!!!\n",
            "@Thomas1774Paine\n",
            "Just\n",
            "like\n",
            "he\n",
            "was\n",
            "a\n",
            "Russian\n",
            "puppet\n",
            "right\n",
            "Eric?\n",
            "How’s\n",
            "that\n",
            "Russian\n",
            "Collusion\n",
            "fairytale\n",
            "going?\n",
            "Have…\n",
            "https://t.co/38iy7V6MgC\n",
            "@Oluomachi_u\n",
            "I\n",
            "believe\n",
            "in\n",
            "you!😭\n",
            "@iTS_MeMadiO\n",
            "You\n",
            "work\n",
            "at\n",
            "the\n",
            "🏥\n"
          ],
          "name": "stdout"
        }
      ]
    },
    {
      "cell_type": "markdown",
      "metadata": {
        "id": "W1osH3RSwflW"
      },
      "source": [
        "Map"
      ]
    }
  ]
}