{
  "nbformat": 4,
  "nbformat_minor": 0,
  "metadata": {
    "colab": {
      "name": "Untitled0.ipynb",
      "provenance": [],
      "authorship_tag": "ABX9TyOIMWumIFgI39mu3ZMiyjY+",
      "include_colab_link": true
    },
    "kernelspec": {
      "name": "python3",
      "display_name": "Python 3"
    }
  },
  "cells": [
    {
      "cell_type": "markdown",
      "metadata": {
        "id": "view-in-github",
        "colab_type": "text"
      },
      "source": [
        "<a href=\"https://colab.research.google.com/github/ATalaveraDev/social-network-extraction-info/blob/main/Untitled0.ipynb\" target=\"_parent\"><img src=\"https://colab.research.google.com/assets/colab-badge.svg\" alt=\"Open In Colab\"/></a>"
      ]
    },
    {
      "cell_type": "code",
      "metadata": {
        "colab": {
          "base_uri": "https://localhost:8080/"
        },
        "id": "jtuakRdeJth2",
        "outputId": "03e5a09f-e2f8-443b-b3ec-ec40a7f8031b"
      },
      "source": [
        "# Ejercicio 1\n",
        "def myMax(a, b):\n",
        "  x = [a, b]\n",
        "  x.sort()\n",
        "  print(x.pop())\n",
        "\n",
        "myMax(10, 9)"
      ],
      "execution_count": null,
      "outputs": [
        {
          "output_type": "stream",
          "text": [
            "10\n"
          ],
          "name": "stdout"
        }
      ]
    },
    {
      "cell_type": "code",
      "metadata": {
        "colab": {
          "base_uri": "https://localhost:8080/"
        },
        "id": "_8ZgqcVuXW9X",
        "outputId": "c82d6603-ad28-482e-89af-c8f56cc05428"
      },
      "source": [
        "# Ejercicio 2\n",
        "\n",
        "def isVocal(value):\n",
        "  print(value.lower() in 'aeiou')\n",
        "\n",
        "isVocal('a')"
      ],
      "execution_count": null,
      "outputs": [
        {
          "output_type": "stream",
          "text": [
            "True\n"
          ],
          "name": "stdout"
        }
      ]
    },
    {
      "cell_type": "code",
      "metadata": {
        "colab": {
          "base_uri": "https://localhost:8080/",
          "height": 358
        },
        "id": "kY-KZb4hRgGM",
        "outputId": "7a35578e-62ce-4c46-92f8-1dd96babed45"
      },
      "source": [
        "# Ejercicio 3\n",
        "sum([1, 3, 6])"
      ],
      "execution_count": null,
      "outputs": [
        {
          "output_type": "error",
          "ename": "RecursionError",
          "evalue": "ignored",
          "traceback": [
            "\u001b[0;31m---------------------------------------------------------------------------\u001b[0m",
            "\u001b[0;31mRecursionError\u001b[0m                            Traceback (most recent call last)",
            "\u001b[0;32m<ipython-input-61-0abc2ab2f35a>\u001b[0m in \u001b[0;36m<module>\u001b[0;34m()\u001b[0m\n\u001b[1;32m      1\u001b[0m \u001b[0;31m# Ejercicio 3\u001b[0m\u001b[0;34m\u001b[0m\u001b[0;34m\u001b[0m\u001b[0;34m\u001b[0m\u001b[0m\n\u001b[0;32m----> 2\u001b[0;31m \u001b[0msum\u001b[0m\u001b[0;34m(\u001b[0m\u001b[0;34m[\u001b[0m\u001b[0;36m1\u001b[0m\u001b[0;34m,\u001b[0m \u001b[0;36m3\u001b[0m\u001b[0;34m,\u001b[0m \u001b[0;36m6\u001b[0m\u001b[0;34m]\u001b[0m\u001b[0;34m)\u001b[0m\u001b[0;34m\u001b[0m\u001b[0;34m\u001b[0m\u001b[0m\n\u001b[0m",
            "\u001b[0;32m<ipython-input-19-eadc20da9594>\u001b[0m in \u001b[0;36msum\u001b[0;34m(value)\u001b[0m\n\u001b[1;32m      2\u001b[0m \u001b[0;34m\u001b[0m\u001b[0m\n\u001b[1;32m      3\u001b[0m \u001b[0;32mdef\u001b[0m \u001b[0msum\u001b[0m\u001b[0;34m(\u001b[0m\u001b[0mvalue\u001b[0m\u001b[0;34m)\u001b[0m\u001b[0;34m:\u001b[0m\u001b[0;34m\u001b[0m\u001b[0;34m\u001b[0m\u001b[0m\n\u001b[0;32m----> 4\u001b[0;31m   \u001b[0mprint\u001b[0m\u001b[0;34m(\u001b[0m\u001b[0msum\u001b[0m\u001b[0;34m(\u001b[0m\u001b[0mvalue\u001b[0m\u001b[0;34m)\u001b[0m\u001b[0;34m)\u001b[0m\u001b[0;34m\u001b[0m\u001b[0;34m\u001b[0m\u001b[0m\n\u001b[0m\u001b[1;32m      5\u001b[0m \u001b[0;34m\u001b[0m\u001b[0m\n\u001b[1;32m      6\u001b[0m \u001b[0msum\u001b[0m\u001b[0;34m(\u001b[0m\u001b[0;34m[\u001b[0m\u001b[0;36m1\u001b[0m\u001b[0;34m,\u001b[0m \u001b[0;36m3\u001b[0m\u001b[0;34m,\u001b[0m \u001b[0;36m6\u001b[0m\u001b[0;34m]\u001b[0m\u001b[0;34m)\u001b[0m\u001b[0;34m\u001b[0m\u001b[0;34m\u001b[0m\u001b[0m\n",
            "... last 1 frames repeated, from the frame below ...\n",
            "\u001b[0;32m<ipython-input-19-eadc20da9594>\u001b[0m in \u001b[0;36msum\u001b[0;34m(value)\u001b[0m\n\u001b[1;32m      2\u001b[0m \u001b[0;34m\u001b[0m\u001b[0m\n\u001b[1;32m      3\u001b[0m \u001b[0;32mdef\u001b[0m \u001b[0msum\u001b[0m\u001b[0;34m(\u001b[0m\u001b[0mvalue\u001b[0m\u001b[0;34m)\u001b[0m\u001b[0;34m:\u001b[0m\u001b[0;34m\u001b[0m\u001b[0;34m\u001b[0m\u001b[0m\n\u001b[0;32m----> 4\u001b[0;31m   \u001b[0mprint\u001b[0m\u001b[0;34m(\u001b[0m\u001b[0msum\u001b[0m\u001b[0;34m(\u001b[0m\u001b[0mvalue\u001b[0m\u001b[0;34m)\u001b[0m\u001b[0;34m)\u001b[0m\u001b[0;34m\u001b[0m\u001b[0;34m\u001b[0m\u001b[0m\n\u001b[0m\u001b[1;32m      5\u001b[0m \u001b[0;34m\u001b[0m\u001b[0m\n\u001b[1;32m      6\u001b[0m \u001b[0msum\u001b[0m\u001b[0;34m(\u001b[0m\u001b[0;34m[\u001b[0m\u001b[0;36m1\u001b[0m\u001b[0;34m,\u001b[0m \u001b[0;36m3\u001b[0m\u001b[0;34m,\u001b[0m \u001b[0;36m6\u001b[0m\u001b[0;34m]\u001b[0m\u001b[0;34m)\u001b[0m\u001b[0;34m\u001b[0m\u001b[0;34m\u001b[0m\u001b[0m\n",
            "\u001b[0;31mRecursionError\u001b[0m: maximum recursion depth exceeded"
          ]
        }
      ]
    },
    {
      "cell_type": "code",
      "metadata": {
        "colab": {
          "base_uri": "https://localhost:8080/"
        },
        "id": "H3ej0pVwZSSu",
        "outputId": "c36def08-74a8-4139-b729-2ce602698bac"
      },
      "source": [
        "# Ejercicio 4\n",
        "\n",
        "def reverse(text):\n",
        "  print(text[::-1])\n",
        "\n",
        "reverse('abc')"
      ],
      "execution_count": null,
      "outputs": [
        {
          "output_type": "stream",
          "text": [
            "cba\n"
          ],
          "name": "stdout"
        }
      ]
    },
    {
      "cell_type": "code",
      "metadata": {
        "colab": {
          "base_uri": "https://localhost:8080/"
        },
        "id": "Tb8uQwsWZblo",
        "outputId": "805e1164-1739-44f1-e2ff-480a5c61bd73"
      },
      "source": [
        "# Ejercicio 5\n",
        "import string\n",
        "\n",
        "def isPangrama(text):\n",
        "  for i in string.ascii_lowercase:\n",
        "    result = i in text.lower()\n",
        "    if result is False:\n",
        "      break\n",
        "  print(result)\n",
        "\n",
        "isPangrama('The quick brown fox jumps over the lazy dog')"
      ],
      "execution_count": null,
      "outputs": [
        {
          "output_type": "stream",
          "text": [
            "True\n"
          ],
          "name": "stdout"
        }
      ]
    },
    {
      "cell_type": "code",
      "metadata": {
        "id": "KJvtwotAdK4q",
        "colab": {
          "base_uri": "https://localhost:8080/"
        },
        "outputId": "64f68009-9cae-4cf0-e26d-c805bb5bddd1"
      },
      "source": [
        "# Ejercicio 6\n",
        "\n",
        "def counterInDict(val):\n",
        "  dict = {}\n",
        "  for letter in val:\n",
        "    if (letter in dict.keys()):\n",
        "      dict[letter] += 1\n",
        "    else:\n",
        "      dict[letter] = 0\n",
        "  print(dict)\n",
        "\n",
        "counterInDict('abbabcbdbabdbdbabababcbcbab')"
      ],
      "execution_count": null,
      "outputs": [
        {
          "output_type": "stream",
          "text": [
            "{'a': 6, 'b': 13, 'c': 2, 'd': 2}\n"
          ],
          "name": "stdout"
        }
      ]
    },
    {
      "cell_type": "code",
      "metadata": {
        "colab": {
          "base_uri": "https://localhost:8080/"
        },
        "id": "UtlsdBYpTsbi",
        "outputId": "5d6f5692-dc93-4142-bd2e-9391bb82c5c0"
      },
      "source": [
        "# Ejercicio 7\n",
        "myString = ']['\n",
        "\n",
        "def extractor(val):\n",
        "  if val == '':\n",
        "    print('OK')\n",
        "  else:\n",
        "    pos = val.find('[]')\n",
        "    if pos > -1:\n",
        "      val = val[0:pos] + val[pos+2:]\n",
        "      extractor(val)\n",
        "    else:\n",
        "      print('NOT OK')\n",
        "\n",
        "extractor(myString)"
      ],
      "execution_count": null,
      "outputs": [
        {
          "output_type": "stream",
          "text": [
            "NOT OK\n"
          ],
          "name": "stdout"
        }
      ]
    },
    {
      "cell_type": "code",
      "metadata": {
        "colab": {
          "base_uri": "https://localhost:8080/"
        },
        "id": "UdvXC_gxYMR2",
        "outputId": "0384ff8e-feb8-47ab-c0f4-874d33eb0062"
      },
      "source": [
        "# Ejercicio 8\n",
        "from urllib.request import urlopen\n",
        "import re\n",
        "\n",
        "def aliceMostWords(n):\n",
        "  url = 'http://www.gutenberg.org/files/19033/19033-8.txt'\n",
        "  aliceInString = str(urlopen(url).read())\n",
        "  aliceInString = aliceInString.replace('\\\\r\\\\n', ' ').replace(\"b'\",'')\n",
        "  aliceInString = re.sub('[^A-Za-z0-9]+ ', '', aliceInString).lower()\n",
        "  aliceInList = aliceInString.split(' ')\n",
        "\n",
        "  dict = {}\n",
        "  for word in aliceInList:\n",
        "    if (word in dict.keys()):\n",
        "      dict[word] += 1\n",
        "    else:\n",
        "      dict[word] = 0\n",
        "  sortedDict = {k: v for k, v in sorted(dict.items(), key=lambda item: item[1], reverse=True)}\n",
        "  result = {k: sortedDict[k] for k in list(sortedDict)[:n]}\n",
        "  print(result)\n",
        "\n",
        "aliceMostWords(3)\n"
      ],
      "execution_count": 8,
      "outputs": [
        {
          "output_type": "stream",
          "text": [
            "{'the': 677, 'a': 304, 'of': 303}\n"
          ],
          "name": "stdout"
        }
      ]
    }
  ]
}