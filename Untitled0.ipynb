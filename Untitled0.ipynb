{
  "nbformat": 4,
  "nbformat_minor": 0,
  "metadata": {
    "colab": {
      "name": "Untitled0.ipynb",
      "provenance": [],
      "authorship_tag": "ABX9TyNXswqj78dkL2DbYlY82+qR",
      "include_colab_link": true
    },
    "kernelspec": {
      "name": "python3",
      "display_name": "Python 3"
    }
  },
  "cells": [
    {
      "cell_type": "markdown",
      "metadata": {
        "id": "view-in-github",
        "colab_type": "text"
      },
      "source": [
        "<a href=\"https://colab.research.google.com/github/ATalaveraDev/social-network-extraction-info/blob/main/Untitled0.ipynb\" target=\"_parent\"><img src=\"https://colab.research.google.com/assets/colab-badge.svg\" alt=\"Open In Colab\"/></a>"
      ]
    },
    {
      "cell_type": "code",
      "metadata": {
        "colab": {
          "base_uri": "https://localhost:8080/"
        },
        "id": "jtuakRdeJth2",
        "outputId": "0070b828-ef70-4015-efc6-0c00cd0d3553"
      },
      "source": [
        "# Ejercicio 1\n",
        "x = [2, 1]\n",
        "x.sort()\n",
        "x.pop()"
      ],
      "execution_count": 13,
      "outputs": [
        {
          "output_type": "execute_result",
          "data": {
            "text/plain": [
              "2"
            ]
          },
          "metadata": {
            "tags": []
          },
          "execution_count": 13
        }
      ]
    },
    {
      "cell_type": "code",
      "metadata": {
        "colab": {
          "base_uri": "https://localhost:8080/"
        },
        "id": "_8ZgqcVuXW9X",
        "outputId": "92bba6bb-caf1-462e-def7-cce1e65b1db7"
      },
      "source": [
        "# Ejercicio 2\n",
        "'B'.lower() in 'aeiou'"
      ],
      "execution_count": 18,
      "outputs": [
        {
          "output_type": "execute_result",
          "data": {
            "text/plain": [
              "False"
            ]
          },
          "metadata": {
            "tags": []
          },
          "execution_count": 18
        }
      ]
    },
    {
      "cell_type": "code",
      "metadata": {
        "colab": {
          "base_uri": "https://localhost:8080/"
        },
        "id": "9HbPFOuaX_Wd",
        "outputId": "42f8a43b-53ff-479d-991a-636d66ed456d"
      },
      "source": [
        "# Ejercicio 3\n",
        "sum([1, 3, 6])"
      ],
      "execution_count": 21,
      "outputs": [
        {
          "output_type": "execute_result",
          "data": {
            "text/plain": [
              "10"
            ]
          },
          "metadata": {
            "tags": []
          },
          "execution_count": 21
        }
      ]
    },
    {
      "cell_type": "code",
      "metadata": {
        "colab": {
          "base_uri": "https://localhost:8080/",
          "height": 35
        },
        "id": "H3ej0pVwZSSu",
        "outputId": "f52857a1-0192-4a5b-cd6a-ee6fb46fb020"
      },
      "source": [
        "# Ejercicio 4\n",
        "'abc'[::-1]"
      ],
      "execution_count": 23,
      "outputs": [
        {
          "output_type": "execute_result",
          "data": {
            "application/vnd.google.colaboratory.intrinsic+json": {
              "type": "string"
            },
            "text/plain": [
              "'cba'"
            ]
          },
          "metadata": {
            "tags": []
          },
          "execution_count": 23
        }
      ]
    },
    {
      "cell_type": "code",
      "metadata": {
        "colab": {
          "base_uri": "https://localhost:8080/"
        },
        "id": "Tb8uQwsWZblo",
        "outputId": "c49d40b3-3c19-4148-cacc-2130933c763b"
      },
      "source": [
        "# Ejercicio 5\n",
        "import string\n",
        "\n",
        "for i in string.ascii_lowercase:\n",
        "  result = i in 'The quick brown fox jumps over the lazy dog'.lower()\n",
        "  if result is False:\n",
        "    break\n",
        "result"
      ],
      "execution_count": 48,
      "outputs": [
        {
          "output_type": "execute_result",
          "data": {
            "text/plain": [
              "True"
            ]
          },
          "metadata": {
            "tags": []
          },
          "execution_count": 48
        }
      ]
    },
    {
      "cell_type": "code",
      "metadata": {
        "id": "KJvtwotAdK4q"
      },
      "source": [
        "# Ejercicio 6\n"
      ],
      "execution_count": null,
      "outputs": []
    }
  ]
}